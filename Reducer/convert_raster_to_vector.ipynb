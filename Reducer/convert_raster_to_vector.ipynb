{
 "cells": [
  {
   "cell_type": "markdown",
   "metadata": {},
   "source": [
    "# Pydeck Earth Engine Introduction\n",
    "\n",
    "This is an introduction to using [Pydeck](https://pydeck.gl) and [Deck.gl](https://deck.gl) with [Google Earth Engine](https://earthengine.google.com/) in Jupyter Notebooks."
   ]
  },
  {
   "cell_type": "markdown",
   "metadata": {},
   "source": [
    "If you wish to run this locally, you'll need to install some dependencies. Installing into a new Conda environment is recommended. To create and enter the environment, run:\n",
    "```\n",
    "conda create -n pydeck-ee -c conda-forge python jupyter notebook pydeck earthengine-api requests -y\n",
    "source activate pydeck-ee\n",
    "jupyter nbextension install --sys-prefix --symlink --overwrite --py pydeck\n",
    "jupyter nbextension enable --sys-prefix --py pydeck\n",
    "```\n",
    "then open Jupyter Notebook with `jupyter notebook`."
   ]
  },
  {
   "cell_type": "markdown",
   "metadata": {},
   "source": [
    "Now in a Python Jupyter Notebook, let's first import required packages:"
   ]
  },
  {
   "cell_type": "code",
   "execution_count": 1,
   "metadata": {},
   "outputs": [],
   "source": [
    "from pydeck_earthengine_layers import EarthEngineLayer\n",
    "import pydeck as pdk\n",
    "import requests\n",
    "import ee"
   ]
  },
  {
   "cell_type": "markdown",
   "metadata": {},
   "source": [
    "## Authentication\n",
    "\n",
    "Using Earth Engine requires authentication. If you don't have a Google account approved for use with Earth Engine, you'll need to request access. For more information and to sign up, go to https://signup.earthengine.google.com/."
   ]
  },
  {
   "cell_type": "markdown",
   "metadata": {},
   "source": [
    "If you haven't used Earth Engine in Python before, you'll need to run the following authentication command. If you've previously authenticated in Python or the command line, you can skip the next line.\n",
    "\n",
    "Note that this creates a prompt which waits for user input. If you don't see a prompt, you may need to authenticate on the command line with `earthengine authenticate` and then return here, skipping the Python authentication."
   ]
  },
  {
   "cell_type": "code",
   "execution_count": null,
   "metadata": {},
   "outputs": [],
   "source": [
    "try:\n",
    "    ee.Initialize()\n",
    "except Exception as e:\n",
    "    ee.Authenticate()\n",
    "    ee.Initialize()"
   ]
  },
  {
   "cell_type": "markdown",
   "metadata": {},
   "source": [
    "## Create Map\n",
    "\n",
    "Next it's time to create a map. Here we create an `ee.Image` object"
   ]
  },
  {
   "cell_type": "code",
   "execution_count": null,
   "metadata": {},
   "outputs": [],
   "source": [
    "# Initialize objects\n",
    "ee_layers = []\n",
    "view_state = pdk.ViewState(latitude=37.7749295, longitude=-122.4194155, zoom=10, bearing=0, pitch=45)"
   ]
  },
  {
   "cell_type": "code",
   "execution_count": 4,
   "metadata": {},
   "outputs": [],
   "source": [
"# %%\n",
"# Add Earth Engine dataset\n",
"# Load a Japan boundary from the Large Scale International Boundary dataset.\n",
"japan = ee.FeatureCollection('USDOS/LSIB_SIMPLE/2017') \\\n",
"  .filter(ee.Filter.eq('country_na', 'Japan'))\n",
"\n",
"# Load a 2012 nightlights image, clipped to the Japan border.\n",
"nl2012 = ee.Image('NOAA/DMSP-OLS/NIGHTTIME_LIGHTS/F182012') \\\n",
"  .select('stable_lights') \\\n",
"  .clipToCollection(japan)\n",
"\n",
"# Define arbitrary thresholds on the 6-bit nightlights image.\n",
"zones = nl2012.gt(30).add(nl2012.gt(55)).add(nl2012.gt(62))\n",
"zones = zones.updateMask(zones.neq(0))\n",
"\n",
"# Convert the zones of the thresholded nightlights to vectors.\n",
"vectors = zones.addBands(nl2012).reduceToVectors(**{\n",
"  'geometry': japan,\n",
"  'crs': nl2012.projection(),\n",
"  'scale': 1000,\n",
"  'geometryType': 'polygon',\n",
"  'eightConnected': False,\n",
"  'labelProperty': 'zone',\n",
"  'reducer': ee.Reducer.mean()\n",
"})\n",
"\n",
"# Display the thresholds.\n",
"view_state = pdk.ViewState(longitude=139.6225, latitude=35.712, zoom=9)\n",
"ee_layers.append(EarthEngineLayer(ee_object=zones, vis_params={'min':1,'max':3,'palette':['0000FF','00FF00','FF0000']}))\n",
"\n",
"# Make a display image for the vectors, add it to the map.\n",
"display = ee.Image(0).updateMask(0).paint(vectors, '000000', 3)\n",
"ee_layers.append(EarthEngineLayer(ee_object=display, vis_params={'palette':'000000'}))\n",
"\n",
"\n",
"\n"
   ]
  },
  {
   "cell_type": "markdown",
   "metadata": {},
   "source": [
    "Then just pass these layers to a `pydeck.Deck` instance, and call `.show()` to create a map:"
   ]
  },
  {
   "cell_type": "code",
   "execution_count": 8,
   "metadata": {},
   "outputs": [
    {
     "data": {
      "application/vnd.jupyter.widget-view+json": {
       "model_id": "f3c23e300d2c4e6ab00a774d57c02a70",
       "version_major": 2,
       "version_minor": 0
      },
      "text/plain": [
       "DeckGLWidget(custom_libraries=[{'libraryName': 'EarthEngineLayerLibrary', 'resourceUri': 'https://cdn.jsdelivr…"
      ]
     },
     "metadata": {},
     "output_type": "display_data"
    }
   ],
   "source": [
    "r = pdk.Deck(layers=ee_layers, initial_view_state=view_state)\n",
    "r.show()"
   ]
  },
  {
   "cell_type": "code",
   "execution_count": null,
   "metadata": {},
   "outputs": [],
   "source": []
  },
  {
   "cell_type": "code",
   "execution_count": null,
   "metadata": {},
   "outputs": [],
   "source": []
  }
 ],
 "metadata": {
  "kernelspec": {
   "display_name": "Python 3",
   "language": "python",
   "name": "python3"
  },
  "language_info": {
   "codemirror_mode": {
    "name": "ipython",
    "version": 3
   },
   "file_extension": ".py",
   "mimetype": "text/x-python",
   "name": "python",
   "nbconvert_exporter": "python",
   "pygments_lexer": "ipython3",
   "version": "3.7.6"
  }
 },
 "nbformat": 4,
 "nbformat_minor": 4
}
