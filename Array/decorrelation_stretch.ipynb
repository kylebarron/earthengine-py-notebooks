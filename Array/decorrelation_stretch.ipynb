{
 "cells": [
  {
   "cell_type": "markdown",
   "metadata": {},
   "source": [
    "# Pydeck Earth Engine Introduction\n",
    "\n",
    "This is an introduction to using [Pydeck](https://pydeck.gl) and [Deck.gl](https://deck.gl) with [Google Earth Engine](https://earthengine.google.com/) in Jupyter Notebooks."
   ]
  },
  {
   "cell_type": "markdown",
   "metadata": {},
   "source": [
    "If you wish to run this locally, you'll need to install some dependencies. Installing into a new Conda environment is recommended. To create and enter the environment, run:\n",
    "```\n",
    "conda create -n pydeck-ee -c conda-forge python jupyter notebook pydeck earthengine-api requests -y\n",
    "source activate pydeck-ee\n",
    "jupyter nbextension install --sys-prefix --symlink --overwrite --py pydeck\n",
    "jupyter nbextension enable --sys-prefix --py pydeck\n",
    "```\n",
    "then open Jupyter Notebook with `jupyter notebook`."
   ]
  },
  {
   "cell_type": "markdown",
   "metadata": {},
   "source": [
    "Now in a Python Jupyter Notebook, let's first import required packages:"
   ]
  },
  {
   "cell_type": "code",
   "execution_count": 1,
   "metadata": {},
   "outputs": [],
   "source": [
    "from pydeck_earthengine_layers import EarthEngineLayer\n",
    "import pydeck as pdk\n",
    "import requests\n",
    "import ee"
   ]
  },
  {
   "cell_type": "markdown",
   "metadata": {},
   "source": [
    "## Authentication\n",
    "\n",
    "Using Earth Engine requires authentication. If you don't have a Google account approved for use with Earth Engine, you'll need to request access. For more information and to sign up, go to https://signup.earthengine.google.com/."
   ]
  },
  {
   "cell_type": "markdown",
   "metadata": {},
   "source": [
    "If you haven't used Earth Engine in Python before, you'll need to run the following authentication command. If you've previously authenticated in Python or the command line, you can skip the next line.\n",
    "\n",
    "Note that this creates a prompt which waits for user input. If you don't see a prompt, you may need to authenticate on the command line with `earthengine authenticate` and then return here, skipping the Python authentication."
   ]
  },
  {
   "cell_type": "code",
   "execution_count": null,
   "metadata": {},
   "outputs": [],
   "source": [
    "try:\n",
    "    ee.Initialize()\n",
    "except Exception as e:\n",
    "    ee.Authenticate()\n",
    "    ee.Initialize()"
   ]
  },
  {
   "cell_type": "markdown",
   "metadata": {},
   "source": [
    "## Create Map\n",
    "\n",
    "Next it's time to create a map. Here we create an `ee.Image` object"
   ]
  },
  {
   "cell_type": "code",
   "execution_count": null,
   "metadata": {},
   "outputs": [],
   "source": [
    "# Initialize objects\n",
    "ee_layers = []\n",
    "view_state = pdk.ViewState(latitude=37.7749295, longitude=-122.4194155, zoom=10, bearing=0, pitch=45)"
   ]
  },
  {
   "cell_type": "code",
   "execution_count": 4,
   "metadata": {},
   "outputs": [],
   "source": [
"# %%\n",
"# Add Earth Engine dataset\n",
"# Decorrelation Stretch\n",
"\n",
"def dcs(image, region, scale):\n",
"# function dcs(image, region, scale) {\n",
"  bandNames = image.bandNames()\n",
"\n",
"  # The axes are numbered, so to make the following code more\n",
"  # readable, give the axes names.\n",
"  imageAxis = 0\n",
"  bandAxis = 1\n",
"\n",
"  # Compute the mean of each band in the region.\n",
"  means = image.reduceRegion(ee.Reducer.mean(), region, scale)\n",
"\n",
"  # Create a constant array image from the mean of each band.\n",
"  meansArray = ee.Image(means.toArray())\n",
"\n",
"  # Collapse the bands of the image into a 1D array per pixel,\n",
"  # with images along the first axis and bands along the second.\n",
"  arrays = image.toArray()\n",
"\n",
"  # Perform element-by-element subtraction, which centers the\n",
"  # distribution of each band within the region.\n",
"  centered = arrays.subtract(meansArray)\n",
"\n",
"  # Compute the covariance of the bands within the region.\n",
"  covar = centered.reduceRegion(**{\n",
"    'reducer': ee.Reducer.centeredCovariance(),\n",
"    'geometry': region,\n",
"    'scale': scale\n",
"  })\n",
"\n",
"  # Get the 'array' result and cast to an array. Note this is a\n",
"  # single array, not one array per pixel, and represents the\n",
"  # band-to-band covariance within the region.\n",
"  covarArray = ee.Array(covar.get('array'))\n",
"\n",
"  # Perform an eigen analysis and slice apart the values and vectors.\n",
"  eigens = covarArray.eigen()\n",
"  eigenValues = eigens.slice(bandAxis, 0, 1)\n",
"  eigenVectors = eigens.slice(bandAxis, 1)\n",
"\n",
"  # Rotate by the eigenvectors, scale to a variance of 30, and rotate back.\n",
"  i = ee.Array.identity(bandNames.length())\n",
"  variance = eigenValues.sqrt().matrixToDiag()\n",
"  scaled = i.multiply(30).divide(variance)\n",
"  rotation = eigenVectors.transpose() \\\n",
"    .matrixMultiply(scaled) \\\n",
"    .matrixMultiply(eigenVectors)\n",
"\n",
"  # Reshape the 1-D 'normalized' array, so we can left matrix multiply\n",
"  # with the rotation. This requires embedding it in 2-D space and\n",
"  # transposing.\n",
"  transposed = centered.arrayRepeat(bandAxis, 1).arrayTranspose()\n",
"\n",
"  # Convert rotated results to 3 RGB bands, and shift the mean to 127.\n",
"  return transposed.matrixMultiply(ee.Image(rotation)) \\\n",
"    .arrayProject([bandAxis]) \\\n",
"    .arrayFlatten([bandNames]) \\\n",
"    .add(127).byte()\n",
"# }\n",
"\n",
"image = ee.Image('MODIS/006/MCD43A4/2002_07_04')\n",
"\n",
"view_state = pdk.ViewState(longitude=-52.09717, latitude=-7.03548, zoom=7)\n",
"\n",
"# View the original bland image.\n",
"rgb = [0, 3, 2]\n",
"ee_layers.append(EarthEngineLayer(ee_object=image.select(rgb), vis_params={'min':-100,'max':2000}))\n",
"\n",
"# Stretch the values within an interesting region.\n",
"region = ee.Geometry.Rectangle(-57.04651, -8.91823, -47.24121, -5.13531)\n",
"ee_layers.append(EarthEngineLayer(ee_object=dcs(image,region,1000).select(rgb), vis_params={}))\n",
"\n",
"# Display the region in which covariance stats were computed.\n",
"ee_layers.append(EarthEngineLayer(ee_object=ee.Image().paint(region,0,2), vis_params={}))\n",
"\n",
"\n",
"\n"
   ]
  },
  {
   "cell_type": "markdown",
   "metadata": {},
   "source": [
    "Then just pass these layers to a `pydeck.Deck` instance, and call `.show()` to create a map:"
   ]
  },
  {
   "cell_type": "code",
   "execution_count": 8,
   "metadata": {},
   "outputs": [
    {
     "data": {
      "application/vnd.jupyter.widget-view+json": {
       "model_id": "f3c23e300d2c4e6ab00a774d57c02a70",
       "version_major": 2,
       "version_minor": 0
      },
      "text/plain": [
       "DeckGLWidget(custom_libraries=[{'libraryName': 'EarthEngineLayerLibrary', 'resourceUri': 'https://cdn.jsdelivr…"
      ]
     },
     "metadata": {},
     "output_type": "display_data"
    }
   ],
   "source": [
    "r = pdk.Deck(layers=ee_layers, initial_view_state=view_state)\n",
    "r.show()"
   ]
  },
  {
   "cell_type": "code",
   "execution_count": null,
   "metadata": {},
   "outputs": [],
   "source": []
  },
  {
   "cell_type": "code",
   "execution_count": null,
   "metadata": {},
   "outputs": [],
   "source": []
  }
 ],
 "metadata": {
  "kernelspec": {
   "display_name": "Python 3",
   "language": "python",
   "name": "python3"
  },
  "language_info": {
   "codemirror_mode": {
    "name": "ipython",
    "version": 3
   },
   "file_extension": ".py",
   "mimetype": "text/x-python",
   "name": "python",
   "nbconvert_exporter": "python",
   "pygments_lexer": "ipython3",
   "version": "3.7.6"
  }
 },
 "nbformat": 4,
 "nbformat_minor": 4
}
