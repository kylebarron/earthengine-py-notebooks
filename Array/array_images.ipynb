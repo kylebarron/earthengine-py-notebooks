{
 "cells": [
  {
   "cell_type": "markdown",
   "metadata": {},
   "source": [
    "# Pydeck Earth Engine Introduction\n",
    "\n",
    "This is an introduction to using [Pydeck](https://pydeck.gl) and [Deck.gl](https://deck.gl) with [Google Earth Engine](https://earthengine.google.com/) in Jupyter Notebooks."
   ]
  },
  {
   "cell_type": "markdown",
   "metadata": {},
   "source": [
    "If you wish to run this locally, you'll need to install some dependencies. Installing into a new Conda environment is recommended. To create and enter the environment, run:\n",
    "```\n",
    "conda create -n pydeck-ee -c conda-forge python jupyter notebook pydeck earthengine-api requests -y\n",
    "source activate pydeck-ee\n",
    "jupyter nbextension install --sys-prefix --symlink --overwrite --py pydeck\n",
    "jupyter nbextension enable --sys-prefix --py pydeck\n",
    "```\n",
    "then open Jupyter Notebook with `jupyter notebook`."
   ]
  },
  {
   "cell_type": "markdown",
   "metadata": {},
   "source": [
    "Now in a Python Jupyter Notebook, let's first import required packages:"
   ]
  },
  {
   "cell_type": "code",
   "execution_count": 1,
   "metadata": {},
   "outputs": [],
   "source": [
    "from pydeck_earthengine_layers import EarthEngineLayer\n",
    "import pydeck as pdk\n",
    "import requests\n",
    "import ee"
   ]
  },
  {
   "cell_type": "markdown",
   "metadata": {},
   "source": [
    "## Authentication\n",
    "\n",
    "Using Earth Engine requires authentication. If you don't have a Google account approved for use with Earth Engine, you'll need to request access. For more information and to sign up, go to https://signup.earthengine.google.com/."
   ]
  },
  {
   "cell_type": "markdown",
   "metadata": {},
   "source": [
    "If you haven't used Earth Engine in Python before, you'll need to run the following authentication command. If you've previously authenticated in Python or the command line, you can skip the next line.\n",
    "\n",
    "Note that this creates a prompt which waits for user input. If you don't see a prompt, you may need to authenticate on the command line with `earthengine authenticate` and then return here, skipping the Python authentication."
   ]
  },
  {
   "cell_type": "code",
   "execution_count": null,
   "metadata": {},
   "outputs": [],
   "source": [
    "try:\n",
    "    ee.Initialize()\n",
    "except Exception as e:\n",
    "    ee.Authenticate()\n",
    "    ee.Initialize()"
   ]
  },
  {
   "cell_type": "markdown",
   "metadata": {},
   "source": [
    "## Create Map\n",
    "\n",
    "Next it's time to create a map. Here we create an `ee.Image` object"
   ]
  },
  {
   "cell_type": "code",
   "execution_count": null,
   "metadata": {},
   "outputs": [],
   "source": [
    "# Initialize objects\n",
    "ee_layers = []\n",
    "view_state = pdk.ViewState(latitude=37.7749295, longitude=-122.4194155, zoom=10, bearing=0, pitch=45)"
   ]
  },
  {
   "cell_type": "code",
   "execution_count": 4,
   "metadata": {},
   "outputs": [],
   "source": [
"# %%\n",
"# Add Earth Engine dataset\n",
"# Define an Array of Tasseled Cap coefficients.\n",
"coefficients = ee.Array([\n",
"  [0.3037, 0.2793, 0.4743, 0.5585, 0.5082, 0.1863],\n",
"  [-0.2848, -0.2435, -0.5436, 0.7243, 0.0840, -0.1800],\n",
"  [0.1509, 0.1973, 0.3279, 0.3406, -0.7112, -0.4572],\n",
"  [-0.8242, 0.0849, 0.4392, -0.0580, 0.2012, -0.2768],\n",
"  [-0.3280, 0.0549, 0.1075, 0.1855, -0.4357, 0.8085],\n",
"  [0.1084, -0.9022, 0.4120, 0.0573, -0.0251, 0.0238]\n",
"])\n",
"\n",
"# Load a Landsat 5 image, select the bands of interest.\n",
"image = ee.Image('LANDSAT/LT05/C01/T1_TOA/LT05_044034_20081011') \\\n",
"  .select(['B1', 'B2', 'B3', 'B4', 'B5', 'B7'])\n",
"\n",
"# Make an Array Image, with a 1-D Array per pixel.\n",
"arrayImage1D = image.toArray()\n",
"\n",
"# Make an Array Image with a 2-D Array per pixel, 6x1.\n",
"arrayImage2D = arrayImage1D.toArray(1)\n",
"\n",
"# Do a matrix multiplication: 6x6 times 6x1.\n",
"componentsImage = ee.Image(coefficients) \\\n",
"  .matrixMultiply(arrayImage2D) \\\n",
"  .arrayProject([0]) \\\n",
"  .arrayFlatten(\n",
"    [['brightness', 'greenness', 'wetness', 'fourth', 'fifth', 'sixth']])\n",
"\n",
"# Display the first three bands of the result and the input imagery.\n",
"vizParams = {\n",
"  'bands': ['brightness', 'greenness', 'wetness'],\n",
"  'min': -0.1, 'max': [0.5, 0.1, 0.1]\n",
"}\n",
"view_state = pdk.ViewState(longitude=-122.3, latitude=37.562, zoom=10)\n",
"ee_layers.append(EarthEngineLayer(ee_object=image, vis_params={'bands':['B4','B3','B2'],'min':0,'max':0.5}))\n",
"ee_layers.append(EarthEngineLayer(ee_object=componentsImage, vis_params=vizParams))\n",
"\n",
"\n",
"\n"
   ]
  },
  {
   "cell_type": "markdown",
   "metadata": {},
   "source": [
    "Then just pass these layers to a `pydeck.Deck` instance, and call `.show()` to create a map:"
   ]
  },
  {
   "cell_type": "code",
   "execution_count": 8,
   "metadata": {},
   "outputs": [
    {
     "data": {
      "application/vnd.jupyter.widget-view+json": {
       "model_id": "f3c23e300d2c4e6ab00a774d57c02a70",
       "version_major": 2,
       "version_minor": 0
      },
      "text/plain": [
       "DeckGLWidget(custom_libraries=[{'libraryName': 'EarthEngineLayerLibrary', 'resourceUri': 'https://cdn.jsdelivr…"
      ]
     },
     "metadata": {},
     "output_type": "display_data"
    }
   ],
   "source": [
    "r = pdk.Deck(layers=ee_layers, initial_view_state=view_state)\n",
    "r.show()"
   ]
  },
  {
   "cell_type": "code",
   "execution_count": null,
   "metadata": {},
   "outputs": [],
   "source": []
  },
  {
   "cell_type": "code",
   "execution_count": null,
   "metadata": {},
   "outputs": [],
   "source": []
  }
 ],
 "metadata": {
  "kernelspec": {
   "display_name": "Python 3",
   "language": "python",
   "name": "python3"
  },
  "language_info": {
   "codemirror_mode": {
    "name": "ipython",
    "version": 3
   },
   "file_extension": ".py",
   "mimetype": "text/x-python",
   "name": "python",
   "nbconvert_exporter": "python",
   "pygments_lexer": "ipython3",
   "version": "3.7.6"
  }
 },
 "nbformat": 4,
 "nbformat_minor": 4
}
