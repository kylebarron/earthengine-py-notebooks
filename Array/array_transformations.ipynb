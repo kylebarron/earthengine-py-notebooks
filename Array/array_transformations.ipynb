{
 "cells": [
  {
   "cell_type": "markdown",
   "metadata": {},
   "source": [
    "# Pydeck Earth Engine Introduction\n",
    "\n",
    "This is an introduction to using [Pydeck](https://pydeck.gl) and [Deck.gl](https://deck.gl) with [Google Earth Engine](https://earthengine.google.com/) in Jupyter Notebooks."
   ]
  },
  {
   "cell_type": "markdown",
   "metadata": {},
   "source": [
    "If you wish to run this locally, you'll need to install some dependencies. Installing into a new Conda environment is recommended. To create and enter the environment, run:\n",
    "```\n",
    "conda create -n pydeck-ee -c conda-forge python jupyter notebook pydeck earthengine-api requests -y\n",
    "source activate pydeck-ee\n",
    "jupyter nbextension install --sys-prefix --symlink --overwrite --py pydeck\n",
    "jupyter nbextension enable --sys-prefix --py pydeck\n",
    "```\n",
    "then open Jupyter Notebook with `jupyter notebook`."
   ]
  },
  {
   "cell_type": "markdown",
   "metadata": {},
   "source": [
    "Now in a Python Jupyter Notebook, let's first import required packages:"
   ]
  },
  {
   "cell_type": "code",
   "execution_count": 1,
   "metadata": {},
   "outputs": [],
   "source": [
    "from pydeck_earthengine_layers import EarthEngineLayer\n",
    "import pydeck as pdk\n",
    "import requests\n",
    "import ee"
   ]
  },
  {
   "cell_type": "markdown",
   "metadata": {},
   "source": [
    "## Authentication\n",
    "\n",
    "Using Earth Engine requires authentication. If you don't have a Google account approved for use with Earth Engine, you'll need to request access. For more information and to sign up, go to https://signup.earthengine.google.com/."
   ]
  },
  {
   "cell_type": "markdown",
   "metadata": {},
   "source": [
    "If you haven't used Earth Engine in Python before, you'll need to run the following authentication command. If you've previously authenticated in Python or the command line, you can skip the next line.\n",
    "\n",
    "Note that this creates a prompt which waits for user input. If you don't see a prompt, you may need to authenticate on the command line with `earthengine authenticate` and then return here, skipping the Python authentication."
   ]
  },
  {
   "cell_type": "code",
   "execution_count": null,
   "metadata": {},
   "outputs": [],
   "source": [
    "try:\n",
    "    ee.Initialize()\n",
    "except Exception as e:\n",
    "    ee.Authenticate()\n",
    "    ee.Initialize()"
   ]
  },
  {
   "cell_type": "markdown",
   "metadata": {},
   "source": [
    "## Create Map\n",
    "\n",
    "Next it's time to create a map. Here we create an `ee.Image` object"
   ]
  },
  {
   "cell_type": "code",
   "execution_count": null,
   "metadata": {},
   "outputs": [],
   "source": [
    "# Initialize objects\n",
    "ee_layers = []\n",
    "view_state = pdk.ViewState(latitude=37.7749295, longitude=-122.4194155, zoom=10, bearing=0, pitch=45)"
   ]
  },
  {
   "cell_type": "code",
   "execution_count": 4,
   "metadata": {},
   "outputs": [],
   "source": [
"# %%\n",
"# Add Earth Engine dataset\n",
"import math\n",
"# This function masks the input with a threshold on the simple cloud score.\n",
"def cloudMask(img):\n",
"  cloudscore = ee.Algorithms.Landsat.simpleCloudScore(img).select('cloud')\n",
"  return img.updateMask(cloudscore.lt(50))\n",
"\n",
"# cloudMask = function(img) {\n",
"#   cloudscore = ee.Algorithms.Landsat.simpleCloudScore(img).select('cloud')\n",
"#   return img.updateMask(cloudscore.lt(50))\n",
"# }\n",
"\n",
"# This function computes the predictors and the response from the input.\n",
"def makeVariables(image):\n",
"  # Compute time of the image in fractional years relative to the Epoch.\n",
"  year = ee.Image(image.date().difference(ee.Date('1970-01-01'), 'year'))\n",
"  # Compute the season in radians, one cycle per year.\n",
"  season = year.multiply(2 * math.pi)\n",
"  # Return an image of the predictors followed by the response.\n",
"  return image.select() \\\n",
"    .addBands(ee.Image(1)) \\\n",
"    .addBands(year.rename('t')) \\\n",
"    .addBands(season.sin().rename('sin')) \\\n",
"    .addBands(season.cos().rename('cos')) \\\n",
"    .addBands(image.normalizedDifference().rename('NDVI')) \\\n",
"    .toFloat()\n",
"\n",
"# Load a Landsat 5 image collection.\n",
"collection = ee.ImageCollection('LANDSAT/LT05/C01/T1_TOA') \\\n",
"  .filterDate('2008-04-01', '2010-04-01')   \\\n",
"  .filterBounds(ee.Geometry.Point(-122.2627, 37.8735)) \\\n",
"  .map(cloudMask)  \\\n",
"  .select(['B4', 'B3']) \\\n",
"  .sort('system:time_start', True)\n",
"\n",
"# # This function computes the predictors and the response from the input.\n",
"# makeVariables = function(image) {\n",
"#   # Compute time of the image in fractional years relative to the Epoch.\n",
"#   year = ee.Image(image.date().difference(ee.Date('1970-01-01'), 'year'))\n",
"#   # Compute the season in radians, one cycle per year.\n",
"#   season = year.multiply(2 * Math.PI)\n",
"#   # Return an image of the predictors followed by the response.\n",
"#   return image.select() \\\n",
"#     .addBands(ee.Image(1))                                  # 0. constant \\\n",
"#     .addBands(year.rename('t'))                             # 1. linear trend \\\n",
"#     .addBands(season.sin().rename('sin'))                   # 2. seasonal \\\n",
"#     .addBands(season.cos().rename('cos'))                   # 3. seasonal \\\n",
"#     .addBands(image.normalizedDifference().rename('NDVI'))  # 4. response \\\n",
"#     .toFloat()\n",
"# }\n",
"\n",
"# Define the axes of variation in the collection array.\n",
"imageAxis = 0\n",
"bandAxis = 1\n",
"\n",
"# Convert the collection to an array.\n",
"array = collection.map(makeVariables).toArray()\n",
"\n",
"# Check the length of the image axis (number of images).\n",
"arrayLength = array.arrayLength(imageAxis)\n",
"# Update the mask to ensure that the number of images is greater than or\n",
"# equal to the number of predictors (the linear model is solveable).\n",
"array = array.updateMask(arrayLength.gt(4))\n",
"\n",
"# Get slices of the array according to positions along the band axis.\n",
"predictors = array.arraySlice(bandAxis, 0, 4)\n",
"response = array.arraySlice(bandAxis, 4)\n",
"\n",
"# Compute coefficients the easiest way.\n",
"coefficients3 = predictors.matrixSolve(response)\n",
"\n",
"# Turn the results into a multi-band image.\n",
"coefficientsImage = coefficients3 \\\n",
"  .arrayProject([0]) \\\n",
"  .arrayFlatten([\n",
"    ['constant', 'trend', 'sin', 'cos']\n",
"])\n",
"\n",
"print(coefficientsImage.getInfo())\n",
"view_state = pdk.ViewState(longitude=-122.2627, latitude=37.8735, zoom=10)\n",
"ee_layers.append(EarthEngineLayer(ee_object=coefficientsImage, vis_params={}))\n",
"\n"
   ]
  },
  {
   "cell_type": "markdown",
   "metadata": {},
   "source": [
    "Then just pass these layers to a `pydeck.Deck` instance, and call `.show()` to create a map:"
   ]
  },
  {
   "cell_type": "code",
   "execution_count": 8,
   "metadata": {},
   "outputs": [
    {
     "data": {
      "application/vnd.jupyter.widget-view+json": {
       "model_id": "f3c23e300d2c4e6ab00a774d57c02a70",
       "version_major": 2,
       "version_minor": 0
      },
      "text/plain": [
       "DeckGLWidget(custom_libraries=[{'libraryName': 'EarthEngineLayerLibrary', 'resourceUri': 'https://cdn.jsdelivr…"
      ]
     },
     "metadata": {},
     "output_type": "display_data"
    }
   ],
   "source": [
    "r = pdk.Deck(layers=ee_layers, initial_view_state=view_state)\n",
    "r.show()"
   ]
  },
  {
   "cell_type": "code",
   "execution_count": null,
   "metadata": {},
   "outputs": [],
   "source": []
  },
  {
   "cell_type": "code",
   "execution_count": null,
   "metadata": {},
   "outputs": [],
   "source": []
  }
 ],
 "metadata": {
  "kernelspec": {
   "display_name": "Python 3",
   "language": "python",
   "name": "python3"
  },
  "language_info": {
   "codemirror_mode": {
    "name": "ipython",
    "version": 3
   },
   "file_extension": ".py",
   "mimetype": "text/x-python",
   "name": "python",
   "nbconvert_exporter": "python",
   "pygments_lexer": "ipython3",
   "version": "3.7.6"
  }
 },
 "nbformat": 4,
 "nbformat_minor": 4
}
