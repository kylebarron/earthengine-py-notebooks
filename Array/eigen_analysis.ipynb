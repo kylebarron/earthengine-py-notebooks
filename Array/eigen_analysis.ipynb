{
 "cells": [
  {
   "cell_type": "markdown",
   "metadata": {},
   "source": [
    "# Pydeck Earth Engine Introduction\n",
    "\n",
    "This is an introduction to using [Pydeck](https://pydeck.gl) and [Deck.gl](https://deck.gl) with [Google Earth Engine](https://earthengine.google.com/) in Jupyter Notebooks."
   ]
  },
  {
   "cell_type": "markdown",
   "metadata": {},
   "source": [
    "If you wish to run this locally, you'll need to install some dependencies. Installing into a new Conda environment is recommended. To create and enter the environment, run:\n",
    "```\n",
    "conda create -n pydeck-ee -c conda-forge python jupyter notebook pydeck earthengine-api requests -y\n",
    "source activate pydeck-ee\n",
    "jupyter nbextension install --sys-prefix --symlink --overwrite --py pydeck\n",
    "jupyter nbextension enable --sys-prefix --py pydeck\n",
    "```\n",
    "then open Jupyter Notebook with `jupyter notebook`."
   ]
  },
  {
   "cell_type": "markdown",
   "metadata": {},
   "source": [
    "Now in a Python Jupyter Notebook, let's first import required packages:"
   ]
  },
  {
   "cell_type": "code",
   "execution_count": 1,
   "metadata": {},
   "outputs": [],
   "source": [
    "from pydeck_earthengine_layers import EarthEngineLayer\n",
    "import pydeck as pdk\n",
    "import requests\n",
    "import ee"
   ]
  },
  {
   "cell_type": "markdown",
   "metadata": {},
   "source": [
    "## Authentication\n",
    "\n",
    "Using Earth Engine requires authentication. If you don't have a Google account approved for use with Earth Engine, you'll need to request access. For more information and to sign up, go to https://signup.earthengine.google.com/."
   ]
  },
  {
   "cell_type": "markdown",
   "metadata": {},
   "source": [
    "If you haven't used Earth Engine in Python before, you'll need to run the following authentication command. If you've previously authenticated in Python or the command line, you can skip the next line.\n",
    "\n",
    "Note that this creates a prompt which waits for user input. If you don't see a prompt, you may need to authenticate on the command line with `earthengine authenticate` and then return here, skipping the Python authentication."
   ]
  },
  {
   "cell_type": "code",
   "execution_count": null,
   "metadata": {},
   "outputs": [],
   "source": [
    "try:\n",
    "    ee.Initialize()\n",
    "except Exception as e:\n",
    "    ee.Authenticate()\n",
    "    ee.Initialize()"
   ]
  },
  {
   "cell_type": "markdown",
   "metadata": {},
   "source": [
    "## Create Map\n",
    "\n",
    "Next it's time to create a map. Here we create an `ee.Image` object"
   ]
  },
  {
   "cell_type": "code",
   "execution_count": null,
   "metadata": {},
   "outputs": [],
   "source": [
    "# Initialize objects\n",
    "ee_layers = []\n",
    "view_state = pdk.ViewState(latitude=37.7749295, longitude=-122.4194155, zoom=10, bearing=0, pitch=45)"
   ]
  },
  {
   "cell_type": "code",
   "execution_count": 4,
   "metadata": {},
   "outputs": [],
   "source": [
"# %%\n",
"# Add Earth Engine dataset\n",
"# Compute the Principal Components of a Landsat 8 image.\n",
"\n",
"\n",
"# Load a landsat 8 image, select the bands of interest.\n",
"image = ee.Image('LANDSAT/LC8_L1T/LC80440342014077LGN00') \\\n",
"  .select(['B2', 'B3', 'B4', 'B5', 'B6', 'B7', 'B10', 'B11'])\n",
"\n",
"# Display the input imagery and the region in which to do the PCA.\n",
"region = image.geometry()\n",
"ee_layers.append(EarthEngineLayer(ee_object=ee.Image().paint(region,0,2), vis_params={}))\n",
"ee_layers.append(EarthEngineLayer(ee_object=image, vis_params={'bands':['B5','B4','B2'],'min':0,'max':20000}))\n",
"\n",
"# Set some information about the input to be used later.\n",
"scale = 30\n",
"bandNames = image.bandNames()\n",
"\n",
"# Mean center the data to enable a faster covariance reducer\n",
"# and an SD stretch of the principal components.\n",
"meanDict = image.reduceRegion(**{\n",
"    'reducer': ee.Reducer.mean(),\n",
"    'geometry': region,\n",
"    'scale': scale,\n",
"    'maxPixels': 1e9\n",
"})\n",
"means = ee.Image.constant(meanDict.values(bandNames))\n",
"centered = image.subtract(means)\n",
"\n",
"# This helper function returns a list of new band names.\n",
"def getNewBandNames(prefix):\n",
"  seq = ee.List.sequence(1, bandNames.length())\n",
"  return seq.map(lambda b: ee.String(prefix).cat(ee.Number(b).int().format()))\n",
"\n",
"\n",
"# This function accepts mean centered imagery, a scale and\n",
"# a region in which to perform the analysis.  It returns the\n",
"# Principal Components (PC) in the region as a new image.\n",
"def getPrincipalComponents(centered, scale, region):\n",
"  # Collapse the bands of the image into a 1D array per pixel.\n",
"  arrays = centered.toArray()\n",
"\n",
"  # Compute the covariance of the bands within the region.\n",
"  covar= arrays.reduceRegion(**{\n",
"    'reducer': ee.Reducer.centeredCovariance(),\n",
"    'geometry': region,\n",
"    'scale': scale,\n",
"    'maxPixels': 1e9\n",
"  })\n",
"\n",
"  # Get the 'array' covariance result and cast to an array.\n",
"  # This represents the band-to-band covariance within the region.\n",
"  covarArray = ee.Array(covar.get('array'))\n",
"\n",
"  # Perform an eigen analysis and slice apart the values and vectors.\n",
"  eigens = covarArray.eigen()\n",
"\n",
"  # This is a P-length vector of Eigenvalues.\n",
"  eigenValues = eigens.slice(1, 0, 1)\n",
"  # This is a PxP matrix with eigenvectors in rows.\n",
"  eigenVectors = eigens.slice(1, 1)\n",
"\n",
"  # Convert the array image to 2D arrays for matrix computations.\n",
"  arrayImage = arrays.toArray(1)\n",
"\n",
"  # Left multiply the image array by the matrix of eigenvectors.\n",
"  principalComponents = ee.Image(eigenVectors).matrixMultiply(arrayImage)\n",
"\n",
"  # Turn the square roots of the Eigenvalues into a P-band image.\n",
"  sdImage = ee.Image(eigenValues.sqrt()) \\\n",
"    .arrayProject([0]).arrayFlatten([getNewBandNames('sd')])\n",
"\n",
"  # Turn the PCs into a P-band image, normalized by SD.\n",
"  return principalComponents \\\n",
"    .arrayProject([0]) \\\n",
"    .arrayFlatten([getNewBandNames('pc')]) \\\n",
"    .divide(sdImage) \\\n",
"\n",
"\n",
"# Get the PCs at the specified scale and in the specified region\n",
"pcImage = getPrincipalComponents(centered, scale, region)\n",
"\n",
"ee_layers.append(EarthEngineLayer(ee_object=pcImage.select(0), vis_params={}))\n",
"\n",
"for i in range(0, bandNames.length().getInfo()):\n",
"    band = pcImage.bandNames().get(i).getInfo()\n",
"ee_layers.append(EarthEngineLayer(ee_object=pcImage.select([band]), vis_params={'min':-2,'max':2}))\n",
"\n",
"\n",
"\n",
"\n"
   ]
  },
  {
   "cell_type": "markdown",
   "metadata": {},
   "source": [
    "Then just pass these layers to a `pydeck.Deck` instance, and call `.show()` to create a map:"
   ]
  },
  {
   "cell_type": "code",
   "execution_count": 8,
   "metadata": {},
   "outputs": [
    {
     "data": {
      "application/vnd.jupyter.widget-view+json": {
       "model_id": "f3c23e300d2c4e6ab00a774d57c02a70",
       "version_major": 2,
       "version_minor": 0
      },
      "text/plain": [
       "DeckGLWidget(custom_libraries=[{'libraryName': 'EarthEngineLayerLibrary', 'resourceUri': 'https://cdn.jsdelivr…"
      ]
     },
     "metadata": {},
     "output_type": "display_data"
    }
   ],
   "source": [
    "r = pdk.Deck(layers=ee_layers, initial_view_state=view_state)\n",
    "r.show()"
   ]
  },
  {
   "cell_type": "code",
   "execution_count": null,
   "metadata": {},
   "outputs": [],
   "source": []
  },
  {
   "cell_type": "code",
   "execution_count": null,
   "metadata": {},
   "outputs": [],
   "source": []
  }
 ],
 "metadata": {
  "kernelspec": {
   "display_name": "Python 3",
   "language": "python",
   "name": "python3"
  },
  "language_info": {
   "codemirror_mode": {
    "name": "ipython",
    "version": 3
   },
   "file_extension": ".py",
   "mimetype": "text/x-python",
   "name": "python",
   "nbconvert_exporter": "python",
   "pygments_lexer": "ipython3",
   "version": "3.7.6"
  }
 },
 "nbformat": 4,
 "nbformat_minor": 4
}
