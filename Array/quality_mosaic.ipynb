{
 "cells": [
  {
   "cell_type": "markdown",
   "metadata": {},
   "source": [
    "# Pydeck Earth Engine Introduction\n",
    "\n",
    "This is an introduction to using [Pydeck](https://pydeck.gl) and [Deck.gl](https://deck.gl) with [Google Earth Engine](https://earthengine.google.com/) in Jupyter Notebooks."
   ]
  },
  {
   "cell_type": "markdown",
   "metadata": {},
   "source": [
    "If you wish to run this locally, you'll need to install some dependencies. Installing into a new Conda environment is recommended. To create and enter the environment, run:\n",
    "```\n",
    "conda create -n pydeck-ee -c conda-forge python jupyter notebook pydeck earthengine-api requests -y\n",
    "source activate pydeck-ee\n",
    "jupyter nbextension install --sys-prefix --symlink --overwrite --py pydeck\n",
    "jupyter nbextension enable --sys-prefix --py pydeck\n",
    "```\n",
    "then open Jupyter Notebook with `jupyter notebook`."
   ]
  },
  {
   "cell_type": "markdown",
   "metadata": {},
   "source": [
    "Now in a Python Jupyter Notebook, let's first import required packages:"
   ]
  },
  {
   "cell_type": "code",
   "execution_count": 1,
   "metadata": {},
   "outputs": [],
   "source": [
    "from pydeck_earthengine_layers import EarthEngineLayer\n",
    "import pydeck as pdk\n",
    "import requests\n",
    "import ee"
   ]
  },
  {
   "cell_type": "markdown",
   "metadata": {},
   "source": [
    "## Authentication\n",
    "\n",
    "Using Earth Engine requires authentication. If you don't have a Google account approved for use with Earth Engine, you'll need to request access. For more information and to sign up, go to https://signup.earthengine.google.com/."
   ]
  },
  {
   "cell_type": "markdown",
   "metadata": {},
   "source": [
    "If you haven't used Earth Engine in Python before, you'll need to run the following authentication command. If you've previously authenticated in Python or the command line, you can skip the next line.\n",
    "\n",
    "Note that this creates a prompt which waits for user input. If you don't see a prompt, you may need to authenticate on the command line with `earthengine authenticate` and then return here, skipping the Python authentication."
   ]
  },
  {
   "cell_type": "code",
   "execution_count": null,
   "metadata": {},
   "outputs": [],
   "source": [
    "try:\n",
    "    ee.Initialize()\n",
    "except Exception as e:\n",
    "    ee.Authenticate()\n",
    "    ee.Initialize()"
   ]
  },
  {
   "cell_type": "markdown",
   "metadata": {},
   "source": [
    "## Create Map\n",
    "\n",
    "Next it's time to create a map. Here we create an `ee.Image` object"
   ]
  },
  {
   "cell_type": "code",
   "execution_count": null,
   "metadata": {},
   "outputs": [],
   "source": [
    "# Initialize objects\n",
    "ee_layers = []\n",
    "view_state = pdk.ViewState(latitude=37.7749295, longitude=-122.4194155, zoom=10, bearing=0, pitch=45)"
   ]
  },
  {
   "cell_type": "code",
   "execution_count": 4,
   "metadata": {},
   "outputs": [],
   "source": [
"# %%\n",
"# Add Earth Engine dataset\n",
"# Array-based quality mosaic.\n",
"\n",
"# Returns a mosaic built by sorting each stack of pixels by the first band\n",
"# in descending order, and taking the highest quality pixel.\n",
"# function qualityMosaic(bands) {\n",
"def qualityMosaic(bands):\n",
"  # Convert to an array, and declare names for the axes and indices along the\n",
"  # band axis.\n",
"  array = bands.toArray()\n",
"  imageAxis = 0\n",
"  bandAxis = 1\n",
"  qualityIndex = 0\n",
"  valuesIndex = 1\n",
"\n",
"  # Slice the quality and values off the main array, and sort the values by the\n",
"  # quality in descending order.\n",
"  quality = array.arraySlice(bandAxis, qualityIndex, qualityIndex + 1)\n",
"  values = array.arraySlice(bandAxis, valuesIndex)\n",
"  valuesByQuality = values.arraySort(quality.multiply(-1))\n",
"\n",
"  # Get an image where each pixel is the array of band values where the quality\n",
"  # band is greatest. Note that while the array is 2-D, the first axis is\n",
"  # length one.\n",
"  best = valuesByQuality.arraySlice(imageAxis, 0, 1)\n",
"\n",
"  # Project the best 2D array down to a single dimension, and convert it back\n",
"  # to a regular scalar image by naming each position along the axis. Note we\n",
"  # provide the original band names, but slice off the first band since the\n",
"  # quality band is not part of the result. Also note to get at the band names,\n",
"  # we have to do some kind of reduction, but it won't really calculate pixels\n",
"  # if we only access the band names.\n",
"  bandNames = bands.min().bandNames().slice(1)\n",
"  return best.arrayProject([bandAxis]).arrayFlatten([bandNames])\n",
"# }\n",
"\n",
"# Load the l7_l1t collection for the year 2000, and make sure the first band\n",
"# is our quality measure, in this case the normalized difference values.\n",
"l7 = ee.ImageCollection('LANDSAT/LE07/C01/T1') \\\n",
"    .filterDate('2000-01-01', '2001-01-01')\n",
"withNd = l7.map(lambda image: image.normalizedDifference(['B4', 'B3']).addBands(image))\n",
"\n",
"# Build a mosaic using the NDVI of bands 4 and 3, essentially showing the\n",
"# greenest pixels from the year 2000.\n",
"greenest = qualityMosaic(withNd)\n",
"\n",
"# Select out the color bands to visualize. An interesting artifact of this\n",
"# approach is that clouds are greener than water. So all the water is white.\n",
"rgb = greenest.select(['B3', 'B2', 'B1'])\n",
"\n",
"ee_layers.append(EarthEngineLayer(ee_object=rgb, vis_params={'gain':[1.4,1.4,1.1]}))\n",
"view_state = pdk.ViewState(longitude=-90.08789, latitude=16.38339, zoom=11)\n",
"\n",
"\n",
"\n"
   ]
  },
  {
   "cell_type": "markdown",
   "metadata": {},
   "source": [
    "Then just pass these layers to a `pydeck.Deck` instance, and call `.show()` to create a map:"
   ]
  },
  {
   "cell_type": "code",
   "execution_count": 8,
   "metadata": {},
   "outputs": [
    {
     "data": {
      "application/vnd.jupyter.widget-view+json": {
       "model_id": "f3c23e300d2c4e6ab00a774d57c02a70",
       "version_major": 2,
       "version_minor": 0
      },
      "text/plain": [
       "DeckGLWidget(custom_libraries=[{'libraryName': 'EarthEngineLayerLibrary', 'resourceUri': 'https://cdn.jsdelivr…"
      ]
     },
     "metadata": {},
     "output_type": "display_data"
    }
   ],
   "source": [
    "r = pdk.Deck(layers=ee_layers, initial_view_state=view_state)\n",
    "r.show()"
   ]
  },
  {
   "cell_type": "code",
   "execution_count": null,
   "metadata": {},
   "outputs": [],
   "source": []
  },
  {
   "cell_type": "code",
   "execution_count": null,
   "metadata": {},
   "outputs": [],
   "source": []
  }
 ],
 "metadata": {
  "kernelspec": {
   "display_name": "Python 3",
   "language": "python",
   "name": "python3"
  },
  "language_info": {
   "codemirror_mode": {
    "name": "ipython",
    "version": 3
   },
   "file_extension": ".py",
   "mimetype": "text/x-python",
   "name": "python",
   "nbconvert_exporter": "python",
   "pygments_lexer": "ipython3",
   "version": "3.7.6"
  }
 },
 "nbformat": 4,
 "nbformat_minor": 4
}
