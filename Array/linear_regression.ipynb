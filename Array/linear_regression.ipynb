{
 "cells": [
  {
   "cell_type": "markdown",
   "metadata": {},
   "source": [
    "# Pydeck Earth Engine Introduction\n",
    "\n",
    "This is an introduction to using [Pydeck](https://pydeck.gl) and [Deck.gl](https://deck.gl) with [Google Earth Engine](https://earthengine.google.com/) in Jupyter Notebooks."
   ]
  },
  {
   "cell_type": "markdown",
   "metadata": {},
   "source": [
    "If you wish to run this locally, you'll need to install some dependencies. Installing into a new Conda environment is recommended. To create and enter the environment, run:\n",
    "```\n",
    "conda create -n pydeck-ee -c conda-forge python jupyter notebook pydeck earthengine-api requests -y\n",
    "source activate pydeck-ee\n",
    "jupyter nbextension install --sys-prefix --symlink --overwrite --py pydeck\n",
    "jupyter nbextension enable --sys-prefix --py pydeck\n",
    "```\n",
    "then open Jupyter Notebook with `jupyter notebook`."
   ]
  },
  {
   "cell_type": "markdown",
   "metadata": {},
   "source": [
    "Now in a Python Jupyter Notebook, let's first import required packages:"
   ]
  },
  {
   "cell_type": "code",
   "execution_count": 1,
   "metadata": {},
   "outputs": [],
   "source": [
    "from pydeck_earthengine_layers import EarthEngineLayer\n",
    "import pydeck as pdk\n",
    "import requests\n",
    "import ee"
   ]
  },
  {
   "cell_type": "markdown",
   "metadata": {},
   "source": [
    "## Authentication\n",
    "\n",
    "Using Earth Engine requires authentication. If you don't have a Google account approved for use with Earth Engine, you'll need to request access. For more information and to sign up, go to https://signup.earthengine.google.com/."
   ]
  },
  {
   "cell_type": "markdown",
   "metadata": {},
   "source": [
    "If you haven't used Earth Engine in Python before, you'll need to run the following authentication command. If you've previously authenticated in Python or the command line, you can skip the next line.\n",
    "\n",
    "Note that this creates a prompt which waits for user input. If you don't see a prompt, you may need to authenticate on the command line with `earthengine authenticate` and then return here, skipping the Python authentication."
   ]
  },
  {
   "cell_type": "code",
   "execution_count": null,
   "metadata": {},
   "outputs": [],
   "source": [
    "try:\n",
    "    ee.Initialize()\n",
    "except Exception as e:\n",
    "    ee.Authenticate()\n",
    "    ee.Initialize()"
   ]
  },
  {
   "cell_type": "markdown",
   "metadata": {},
   "source": [
    "## Create Map\n",
    "\n",
    "Next it's time to create a map. Here we create an `ee.Image` object"
   ]
  },
  {
   "cell_type": "code",
   "execution_count": null,
   "metadata": {},
   "outputs": [],
   "source": [
    "# Initialize objects\n",
    "ee_layers = []\n",
    "view_state = pdk.ViewState(latitude=37.7749295, longitude=-122.4194155, zoom=10, bearing=0, pitch=45)"
   ]
  },
  {
   "cell_type": "code",
   "execution_count": 4,
   "metadata": {},
   "outputs": [],
   "source": [
"# %%\n",
"# Add Earth Engine dataset\n",
"# Simple regression of year versus NDVI.\n",
"\n",
"# Define the start date and position to get images covering Montezuma Castle,\n",
"# Arizona, from 2000-2010.\n",
"start = '2000-01-01'\n",
"end = '2010-01-01'\n",
"lng = -111.83533\n",
"lat = 34.57499\n",
"region = ee.Geometry.Point(lng, lat)\n",
"\n",
"# Filter to Landsat 7 images in the given time and place, filter to a regular\n",
"# time of year to avoid seasonal affects, and for each image create the bands\n",
"# we will regress on:\n",
"# 1. A 1, so the resulting array has a column of ones to capture the offset.\n",
"# 2. Fractional year past 2000-01-01.\n",
"# 3. NDVI.\n",
"\n",
"def addBand(image):\n",
"    date = ee.Date(image.get('system:time_start'))\n",
"    yearOffset = date.difference(ee.Date(start), 'year')\n",
"    ndvi = image.normalizedDifference(['B4', 'B3'])\n",
"    return ee.Image(1).addBands(yearOffset).addBands(ndvi).toDouble()\n",
"\n",
"\n",
"images = ee.ImageCollection('LANDSAT/LE07/C01/T1') \\\n",
"  .filterDate(start, end) \\\n",
"  .filter(ee.Filter.dayOfYear(160, 240)) \\\n",
"  .filterBounds(region) \\\n",
"  .map(addBand) \n",
"#     date = ee.Date(image.get('system:time_start'))\n",
"#     yearOffset = date.difference(ee.Date(start), 'year')\n",
"#     ndvi = image.normalizedDifference(['B4', 'B3'])\n",
"#     return ee.Image(1).addBands(yearOffset).addBands(ndvi).toDouble()\n",
"#   })\n",
"\n",
"# Convert to an array. Give the axes names for more readable code.\n",
"array = images.toArray()\n",
"imageAxis = 0\n",
"bandAxis = 1\n",
"\n",
"# Slice off the year and ndvi, and solve for the coefficients.\n",
"x = array.arraySlice(bandAxis, 0, 2)\n",
"y = array.arraySlice(bandAxis, 2)\n",
"fit = x.matrixSolve(y)\n",
"\n",
"# Get the coefficient for the year, effectively the slope of the long-term\n",
"# NDVI trend.\n",
"slope = fit.arrayGet([1, 0])\n",
"\n",
"view_state = pdk.ViewState(longitude=lng, latitude=lat, zoom=12)\n",
"ee_layers.append(EarthEngineLayer(ee_object=slope, vis_params={'min':-0.03,'max':0.03}))\n",
"\n",
"\n",
"\n"
   ]
  },
  {
   "cell_type": "markdown",
   "metadata": {},
   "source": [
    "Then just pass these layers to a `pydeck.Deck` instance, and call `.show()` to create a map:"
   ]
  },
  {
   "cell_type": "code",
   "execution_count": 8,
   "metadata": {},
   "outputs": [
    {
     "data": {
      "application/vnd.jupyter.widget-view+json": {
       "model_id": "f3c23e300d2c4e6ab00a774d57c02a70",
       "version_major": 2,
       "version_minor": 0
      },
      "text/plain": [
       "DeckGLWidget(custom_libraries=[{'libraryName': 'EarthEngineLayerLibrary', 'resourceUri': 'https://cdn.jsdelivr…"
      ]
     },
     "metadata": {},
     "output_type": "display_data"
    }
   ],
   "source": [
    "r = pdk.Deck(layers=ee_layers, initial_view_state=view_state)\n",
    "r.show()"
   ]
  },
  {
   "cell_type": "code",
   "execution_count": null,
   "metadata": {},
   "outputs": [],
   "source": []
  },
  {
   "cell_type": "code",
   "execution_count": null,
   "metadata": {},
   "outputs": [],
   "source": []
  }
 ],
 "metadata": {
  "kernelspec": {
   "display_name": "Python 3",
   "language": "python",
   "name": "python3"
  },
  "language_info": {
   "codemirror_mode": {
    "name": "ipython",
    "version": 3
   },
   "file_extension": ".py",
   "mimetype": "text/x-python",
   "name": "python",
   "nbconvert_exporter": "python",
   "pygments_lexer": "ipython3",
   "version": "3.7.6"
  }
 },
 "nbformat": 4,
 "nbformat_minor": 4
}
