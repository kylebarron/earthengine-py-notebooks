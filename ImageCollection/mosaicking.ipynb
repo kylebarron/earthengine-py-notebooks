{
 "cells": [
  {
   "cell_type": "markdown",
   "metadata": {},
   "source": [
    "# Pydeck Earth Engine Introduction\n",
    "\n",
    "This is an introduction to using [Pydeck](https://pydeck.gl) and [Deck.gl](https://deck.gl) with [Google Earth Engine](https://earthengine.google.com/) in Jupyter Notebooks."
   ]
  },
  {
   "cell_type": "markdown",
   "metadata": {},
   "source": [
    "If you wish to run this locally, you'll need to install some dependencies. Installing into a new Conda environment is recommended. To create and enter the environment, run:\n",
    "```\n",
    "conda create -n pydeck-ee -c conda-forge python jupyter notebook pydeck earthengine-api requests -y\n",
    "source activate pydeck-ee\n",
    "jupyter nbextension install --sys-prefix --symlink --overwrite --py pydeck\n",
    "jupyter nbextension enable --sys-prefix --py pydeck\n",
    "```\n",
    "then open Jupyter Notebook with `jupyter notebook`."
   ]
  },
  {
   "cell_type": "markdown",
   "metadata": {},
   "source": [
    "Now in a Python Jupyter Notebook, let's first import required packages:"
   ]
  },
  {
   "cell_type": "code",
   "execution_count": 1,
   "metadata": {},
   "outputs": [],
   "source": [
    "from pydeck_earthengine_layers import EarthEngineLayer\n",
    "import pydeck as pdk\n",
    "import requests\n",
    "import ee"
   ]
  },
  {
   "cell_type": "markdown",
   "metadata": {},
   "source": [
    "## Authentication\n",
    "\n",
    "Using Earth Engine requires authentication. If you don't have a Google account approved for use with Earth Engine, you'll need to request access. For more information and to sign up, go to https://signup.earthengine.google.com/."
   ]
  },
  {
   "cell_type": "markdown",
   "metadata": {},
   "source": [
    "If you haven't used Earth Engine in Python before, you'll need to run the following authentication command. If you've previously authenticated in Python or the command line, you can skip the next line.\n",
    "\n",
    "Note that this creates a prompt which waits for user input. If you don't see a prompt, you may need to authenticate on the command line with `earthengine authenticate` and then return here, skipping the Python authentication."
   ]
  },
  {
   "cell_type": "code",
   "execution_count": null,
   "metadata": {},
   "outputs": [],
   "source": [
    "try:\n",
    "    ee.Initialize()\n",
    "except Exception as e:\n",
    "    ee.Authenticate()\n",
    "    ee.Initialize()"
   ]
  },
  {
   "cell_type": "markdown",
   "metadata": {},
   "source": [
    "## Create Map\n",
    "\n",
    "Next it's time to create a map. Here we create an `ee.Image` object"
   ]
  },
  {
   "cell_type": "code",
   "execution_count": null,
   "metadata": {},
   "outputs": [],
   "source": [
    "# Initialize objects\n",
    "ee_layers = []\n",
    "view_state = pdk.ViewState(latitude=37.7749295, longitude=-122.4194155, zoom=10, bearing=0, pitch=45)"
   ]
  },
  {
   "cell_type": "code",
   "execution_count": 4,
   "metadata": {},
   "outputs": [],
   "source": [
"# %%\n",
"# Add Earth Engine dataset\n",
"# Load three NAIP quarter quads in the same location, different times.\n",
"naip2004_2012 = ee.ImageCollection('USDA/NAIP/DOQQ') \\\n",
"  .filterBounds(ee.Geometry.Point(-71.08841, 42.39823)) \\\n",
"  .filterDate('2004-07-01', '2012-12-31') \\\n",
"  .select(['R', 'G', 'B'])\n",
"\n",
"# Temporally composite the images with a maximum value function.\n",
"composite = naip2004_2012.max()\n",
"view_state = pdk.ViewState(longitude=-71.12532, latitude=42.3712, zoom=12)\n",
"ee_layers.append(EarthEngineLayer(ee_object=composite, vis_params={}))\n",
"\n",
"\n",
"# Load four 2012 NAIP quarter quads, different locations.\n",
"naip2012 = ee.ImageCollection('USDA/NAIP/DOQQ') \\\n",
"  .filterBounds(ee.Geometry.Rectangle(-71.17965, 42.35125, -71.08824, 42.40584)) \\\n",
"  .filterDate('2012-01-01', '2012-12-31')\n",
"\n",
"# Spatially mosaic the images in the collection and display.\n",
"mosaic = naip2012.mosaic()\n",
"view_state = pdk.ViewState(longitude=-71.12532, latitude=42.3712, zoom=12)\n",
"ee_layers.append(EarthEngineLayer(ee_object=mosaic, vis_params={}))\n",
"\n",
"\n",
"# Load a NAIP quarter quad, display.\n",
"naip = ee.Image('USDA/NAIP/DOQQ/m_4207148_nw_19_1_20120710')\n",
"view_state = pdk.ViewState(longitude=-71.0915, latitude=42.3443, zoom=14)\n",
"ee_layers.append(EarthEngineLayer(ee_object=naip, vis_params={}))\n",
"\n",
"# Create the NDVI and NDWI spectral indices.\n",
"ndvi = naip.normalizedDifference(['N', 'R'])\n",
"ndwi = naip.normalizedDifference(['G', 'N'])\n",
"\n",
"# Create some binary images from thresholds on the indices.\n",
"# This threshold is designed to detect bare land.\n",
"bare1 = ndvi.lt(0.2).And(ndwi.lt(0.3))\n",
"# This detects bare land with lower sensitivity. It also detects shadows.\n",
"bare2 = ndvi.lt(0.2).And(ndwi.lt(0.8))\n",
"\n",
"# Define visualization parameters for the spectral indices.\n",
"ndviViz = {'min': -1, 'max': 1, 'palette': ['FF0000', '00FF00']}\n",
"ndwiViz = {'min': 0.5, 'max': 1, 'palette': ['00FFFF', '0000FF']}\n",
"\n",
"# Mask and mosaic visualization images.  The last layer is on top.\n",
"mosaic = ee.ImageCollection([\n",
"  # NDWI > 0.5 is water.  Visualize it with a blue palette.\n",
"  ndwi.updateMask(ndwi.gte(0.5)).visualize(**ndwiViz),\n",
"  # NDVI > 0.2 is vegetation.  Visualize it with a green palette.\n",
"  ndvi.updateMask(ndvi.gte(0.2)).visualize(**ndviViz),\n",
"  # Visualize bare areas with shadow (bare2 but not bare1) as gray.\n",
"  bare2.updateMask(bare2.And(bare1.Not())).visualize(**{'palette': ['AAAAAA']}),\n",
"  # Visualize the other bare areas as white.\n",
"  bare1.updateMask(bare1).visualize(**{'palette': ['FFFFFF']}),\n",
"]).mosaic()\n",
"ee_layers.append(EarthEngineLayer(ee_object=mosaic, vis_params={}))\n",
"\n",
"\n",
"\n",
"# # This function masks clouds in Landsat 8 imagery.\n",
"# maskClouds = function(image) {\n",
"#   scored = ee.Algorithms.Landsat.simpleCloudScore(image)\n",
"#   return image.updateMask(scored.select(['cloud']).lt(20))\n",
"# }\n",
"\n",
"# # This function masks clouds and adds quality bands to Landsat 8 images.\n",
"# addQualityBands = function(image) {\n",
"#   return maskClouds(image)\n",
"#     # NDVI \\\n",
"#     .addBands(image.normalizedDifference(['B5', 'B4']))\n",
"#     # time in days \\\n",
"#     .addBands(image.metadata('system:time_start'))\n",
"# }\n",
"\n",
"# # Load a 2014 Landsat 8 ImageCollection.\n",
"# # Map the cloud masking and quality band function over the collection.\n",
"# collection = ee.ImageCollection('LANDSAT/LC08/C01/T1_TOA') \\\n",
"#   .filterDate('2014-06-01', '2014-12-31') \\\n",
"#   .map(addQualityBands)\n",
"\n",
"# # Create a cloud-free, most recent value composite.\n",
"# recentValueComposite = collection.qualityMosaic('system:time_start')\n",
"\n",
"# # Create a greenest pixel composite.\n",
"# greenestPixelComposite = collection.qualityMosaic('nd')\n",
"\n",
"# # Display the results.\n",
"# Map.setCenter(-122.374, 37.8239, 12) # San Francisco Bay\n",
"# vizParams = {'bands': ['B5', 'B4', 'B3'], 'min': 0, 'max': 0.4}\n",
"# Map.addLayer(recentValueComposite, vizParams, 'recent value composite')\n",
"# Map.addLayer(greenestPixelComposite, vizParams, 'greenest pixel composite')\n",
"\n",
"# # Compare to a cloudy image in the collection.\n",
"# cloudy = ee.Image('LANDSAT/LC08/C01/T1_TOA/LC08_044034_20140825')\n",
"# Map.addLayer(cloudy, vizParams, 'cloudy')\n",
"\n",
"\n",
"\n"
   ]
  },
  {
   "cell_type": "markdown",
   "metadata": {},
   "source": [
    "Then just pass these layers to a `pydeck.Deck` instance, and call `.show()` to create a map:"
   ]
  },
  {
   "cell_type": "code",
   "execution_count": 8,
   "metadata": {},
   "outputs": [
    {
     "data": {
      "application/vnd.jupyter.widget-view+json": {
       "model_id": "f3c23e300d2c4e6ab00a774d57c02a70",
       "version_major": 2,
       "version_minor": 0
      },
      "text/plain": [
       "DeckGLWidget(custom_libraries=[{'libraryName': 'EarthEngineLayerLibrary', 'resourceUri': 'https://cdn.jsdelivr…"
      ]
     },
     "metadata": {},
     "output_type": "display_data"
    }
   ],
   "source": [
    "r = pdk.Deck(layers=ee_layers, initial_view_state=view_state)\n",
    "r.show()"
   ]
  },
  {
   "cell_type": "code",
   "execution_count": null,
   "metadata": {},
   "outputs": [],
   "source": []
  },
  {
   "cell_type": "code",
   "execution_count": null,
   "metadata": {},
   "outputs": [],
   "source": []
  }
 ],
 "metadata": {
  "kernelspec": {
   "display_name": "Python 3",
   "language": "python",
   "name": "python3"
  },
  "language_info": {
   "codemirror_mode": {
    "name": "ipython",
    "version": 3
   },
   "file_extension": ".py",
   "mimetype": "text/x-python",
   "name": "python",
   "nbconvert_exporter": "python",
   "pygments_lexer": "ipython3",
   "version": "3.7.6"
  }
 },
 "nbformat": 4,
 "nbformat_minor": 4
}
