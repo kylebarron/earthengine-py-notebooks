{
 "cells": [
  {
   "cell_type": "markdown",
   "metadata": {},
   "source": [
    "# Pydeck Earth Engine Introduction\n",
    "\n",
    "This is an introduction to using [Pydeck](https://pydeck.gl) and [Deck.gl](https://deck.gl) with [Google Earth Engine](https://earthengine.google.com/) in Jupyter Notebooks."
   ]
  },
  {
   "cell_type": "markdown",
   "metadata": {},
   "source": [
    "If you wish to run this locally, you'll need to install some dependencies. Installing into a new Conda environment is recommended. To create and enter the environment, run:\n",
    "```\n",
    "conda create -n pydeck-ee -c conda-forge python jupyter notebook pydeck earthengine-api requests -y\n",
    "source activate pydeck-ee\n",
    "jupyter nbextension install --sys-prefix --symlink --overwrite --py pydeck\n",
    "jupyter nbextension enable --sys-prefix --py pydeck\n",
    "```\n",
    "then open Jupyter Notebook with `jupyter notebook`."
   ]
  },
  {
   "cell_type": "markdown",
   "metadata": {},
   "source": [
    "Now in a Python Jupyter Notebook, let's first import required packages:"
   ]
  },
  {
   "cell_type": "code",
   "execution_count": 1,
   "metadata": {},
   "outputs": [],
   "source": [
    "from pydeck_earthengine_layers import EarthEngineLayer\n",
    "import pydeck as pdk\n",
    "import requests\n",
    "import ee"
   ]
  },
  {
   "cell_type": "markdown",
   "metadata": {},
   "source": [
    "## Authentication\n",
    "\n",
    "Using Earth Engine requires authentication. If you don't have a Google account approved for use with Earth Engine, you'll need to request access. For more information and to sign up, go to https://signup.earthengine.google.com/."
   ]
  },
  {
   "cell_type": "markdown",
   "metadata": {},
   "source": [
    "If you haven't used Earth Engine in Python before, you'll need to run the following authentication command. If you've previously authenticated in Python or the command line, you can skip the next line.\n",
    "\n",
    "Note that this creates a prompt which waits for user input. If you don't see a prompt, you may need to authenticate on the command line with `earthengine authenticate` and then return here, skipping the Python authentication."
   ]
  },
  {
   "cell_type": "code",
   "execution_count": null,
   "metadata": {},
   "outputs": [],
   "source": [
    "try:\n",
    "    ee.Initialize()\n",
    "except Exception as e:\n",
    "    ee.Authenticate()\n",
    "    ee.Initialize()"
   ]
  },
  {
   "cell_type": "markdown",
   "metadata": {},
   "source": [
    "## Create Map\n",
    "\n",
    "Next it's time to create a map. Here we create an `ee.Image` object"
   ]
  },
  {
   "cell_type": "code",
   "execution_count": null,
   "metadata": {},
   "outputs": [],
   "source": [
    "# Initialize objects\n",
    "ee_layers = []\n",
    "view_state = pdk.ViewState(latitude=37.7749295, longitude=-122.4194155, zoom=10, bearing=0, pitch=45)"
   ]
  },
  {
   "cell_type": "code",
   "execution_count": 4,
   "metadata": {},
   "outputs": [],
   "source": [
"# %%\n",
"# Add Earth Engine dataset\n",
"collection = ee.ImageCollection('USDA/NAIP/DOQQ')\n",
"fromFT = ee.FeatureCollection('ft:1CLldB-ULPyULBT2mxoRNv7enckVF0gCQoD2oH7XP')\n",
"polys = fromFT.geometry()\n",
"# polys = ee.Geometry.Polygon(\n",
"#         [[[-99.29615020751953, 46.725459351792374],\n",
"#           [-99.2116928100586, 46.72404725733022],\n",
"#           [-99.21443939208984, 46.772037733479884],\n",
"#           [-99.30267333984375, 46.77321343419932]]])\n",
"\n",
"centroid = polys.centroid()\n",
"lng, lat = centroid.getInfo()['coordinates']\n",
"print(\"lng = {}, lat = {}\".format(lng, lat))\n",
"\n",
"lng_lat = ee.Geometry.Point(lng, lat)\n",
"naip = collection.filterBounds(polys)\n",
"naip_2015 = naip.filterDate('2015-01-01', '2015-12-31')\n",
"ppr = naip_2015.mosaic()\n",
"\n",
"count = naip_2015.size().getInfo()\n",
"print(\"Count: \", count)\n",
"\n",
"# print(naip_2015.size().getInfo())\n",
"vis = {'bands': ['N', 'R', 'G']}\n",
"view_state = pdk.ViewState(longitude=lng, latitude=lat, zoom=12)\n",
"ee_layers.append(EarthEngineLayer(ee_object=ppr, vis_params=vis))\n",
"# Map.addLayer(polys)\n",
"\n",
"def NDWI(image):\n",
"    \"\"\"A function to compute NDWI.\"\"\"\n",
"    ndwi = image.normalizedDifference(['G', 'N'])\n",
"    ndwiViz = {'min': 0, 'max': 1, 'palette': ['00FFFF', '0000FF']}\n",
"    ndwiMasked = ndwi.updateMask(ndwi.gte(0.05))\n",
"    ndwi_bin = ndwiMasked.gt(0)\n",
"    patch_size = ndwi_bin.connectedPixelCount(500, True)\n",
"    large_patches = patch_size.eq(500)\n",
"    large_patches = large_patches.updateMask(large_patches)\n",
"    opened = large_patches.focal_min(1).focal_max(1)\n",
"    return opened\n",
"\n",
"ndwi_collection = naip_2015.map(NDWI)\n",
"# Map.addLayer(ndwi_collection)\n",
"# print(ndwi_collection.getInfo())\n",
"\n",
"# downConfig = {'scale': 10, \"maxPixels\": 1.0E13, 'driveFolder': 'image'}  # scale means resolution.\n",
"# img_lst = ndwi_collection.toList(100)\n",
"#\n",
"# taskParams = {\n",
"#     'driveFolder': 'image',\n",
"#     'driveFileNamePrefix': 'ndwi',\n",
"#     'fileFormat': 'KML'\n",
"# }\n",
"#\n",
"# for i in range(0, count):\n",
"#     image = ee.Image(img_lst.get(i))\n",
"#     name = image.get('system:index').getInfo()\n",
"#     print(name)\n",
"#     # task = ee.batch.Export.image(image, \"ndwi2-\" + name, downConfig)\n",
"#     # task.start()\n",
"\n",
"mosaic = ndwi_collection.mosaic().clip(polys)\n",
"fc = mosaic.reduceToVectors(eightConnected=True, maxPixels=59568116121, crs=mosaic.projection(), scale=1)\n",
"# Map.addLayer(fc)\n",
"taskParams = {\n",
"    'driveFolder': 'image',\n",
"    'driveFileNamePrefix': 'water',\n",
"    'fileFormat': 'KML'\n",
"}\n",
"\n",
"count = fromFT.size().getInfo()\n",
"view_state = pdk.ViewState(longitude=lng, latitude=lat, zoom=10)\n",
"\n",
"for i in range(2, 2 + count):\n",
"    watershed = fromFT.filter(ee.Filter.eq('system:index', str(i)))\n",
"    re = fc.filterBounds(watershed)\n",
"    task = ee.batch.Export.table(re, 'watershed-' + str(i), taskParams)\n",
"    task.start()\n",
"    # Map.addLayer(fc)\n",
"\n",
"\n",
"# lpc = fromFT.filter(ee.Filter.eq('name', 'Little Pipestem Creek'))\n",
"\n",
"\n"
   ]
  },
  {
   "cell_type": "markdown",
   "metadata": {},
   "source": [
    "Then just pass these layers to a `pydeck.Deck` instance, and call `.show()` to create a map:"
   ]
  },
  {
   "cell_type": "code",
   "execution_count": 8,
   "metadata": {},
   "outputs": [
    {
     "data": {
      "application/vnd.jupyter.widget-view+json": {
       "model_id": "f3c23e300d2c4e6ab00a774d57c02a70",
       "version_major": 2,
       "version_minor": 0
      },
      "text/plain": [
       "DeckGLWidget(custom_libraries=[{'libraryName': 'EarthEngineLayerLibrary', 'resourceUri': 'https://cdn.jsdelivr…"
      ]
     },
     "metadata": {},
     "output_type": "display_data"
    }
   ],
   "source": [
    "r = pdk.Deck(layers=ee_layers, initial_view_state=view_state)\n",
    "r.show()"
   ]
  },
  {
   "cell_type": "code",
   "execution_count": null,
   "metadata": {},
   "outputs": [],
   "source": []
  },
  {
   "cell_type": "code",
   "execution_count": null,
   "metadata": {},
   "outputs": [],
   "source": []
  }
 ],
 "metadata": {
  "kernelspec": {
   "display_name": "Python 3",
   "language": "python",
   "name": "python3"
  },
  "language_info": {
   "codemirror_mode": {
    "name": "ipython",
    "version": 3
   },
   "file_extension": ".py",
   "mimetype": "text/x-python",
   "name": "python",
   "nbconvert_exporter": "python",
   "pygments_lexer": "ipython3",
   "version": "3.7.6"
  }
 },
 "nbformat": 4,
 "nbformat_minor": 4
}
