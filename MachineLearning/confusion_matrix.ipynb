{
 "cells": [
  {
   "cell_type": "markdown",
   "metadata": {},
   "source": [
    "# Pydeck Earth Engine Introduction\n",
    "\n",
    "This is an introduction to using [Pydeck](https://pydeck.gl) and [Deck.gl](https://deck.gl) with [Google Earth Engine](https://earthengine.google.com/) in Jupyter Notebooks."
   ]
  },
  {
   "cell_type": "markdown",
   "metadata": {},
   "source": [
    "If you wish to run this locally, you'll need to install some dependencies. Installing into a new Conda environment is recommended. To create and enter the environment, run:\n",
    "```\n",
    "conda create -n pydeck-ee -c conda-forge python jupyter notebook pydeck earthengine-api requests -y\n",
    "source activate pydeck-ee\n",
    "jupyter nbextension install --sys-prefix --symlink --overwrite --py pydeck\n",
    "jupyter nbextension enable --sys-prefix --py pydeck\n",
    "```\n",
    "then open Jupyter Notebook with `jupyter notebook`."
   ]
  },
  {
   "cell_type": "markdown",
   "metadata": {},
   "source": [
    "Now in a Python Jupyter Notebook, let's first import required packages:"
   ]
  },
  {
   "cell_type": "code",
   "execution_count": 1,
   "metadata": {},
   "outputs": [],
   "source": [
    "from pydeck_earthengine_layers import EarthEngineLayer\n",
    "import pydeck as pdk\n",
    "import requests\n",
    "import ee"
   ]
  },
  {
   "cell_type": "markdown",
   "metadata": {},
   "source": [
    "## Authentication\n",
    "\n",
    "Using Earth Engine requires authentication. If you don't have a Google account approved for use with Earth Engine, you'll need to request access. For more information and to sign up, go to https://signup.earthengine.google.com/."
   ]
  },
  {
   "cell_type": "markdown",
   "metadata": {},
   "source": [
    "If you haven't used Earth Engine in Python before, you'll need to run the following authentication command. If you've previously authenticated in Python or the command line, you can skip the next line.\n",
    "\n",
    "Note that this creates a prompt which waits for user input. If you don't see a prompt, you may need to authenticate on the command line with `earthengine authenticate` and then return here, skipping the Python authentication."
   ]
  },
  {
   "cell_type": "code",
   "execution_count": null,
   "metadata": {},
   "outputs": [],
   "source": [
    "try:\n",
    "    ee.Initialize()\n",
    "except Exception as e:\n",
    "    ee.Authenticate()\n",
    "    ee.Initialize()"
   ]
  },
  {
   "cell_type": "markdown",
   "metadata": {},
   "source": [
    "## Create Map\n",
    "\n",
    "Next it's time to create a map. Here we create an `ee.Image` object"
   ]
  },
  {
   "cell_type": "code",
   "execution_count": null,
   "metadata": {},
   "outputs": [],
   "source": [
    "# Initialize objects\n",
    "ee_layers = []\n",
    "view_state = pdk.ViewState(latitude=37.7749295, longitude=-122.4194155, zoom=10, bearing=0, pitch=45)"
   ]
  },
  {
   "cell_type": "code",
   "execution_count": 4,
   "metadata": {},
   "outputs": [],
   "source": [
"# %%\n",
"# Add Earth Engine dataset\n",
"# Define a region of interest as a point.  Change the coordinates\n",
"# to get a classification of any place where there is imagery.\n",
"roi = ee.Geometry.Point(-122.3942, 37.7295)\n",
"\n",
"# Load Landsat 5 input imagery.\n",
"landsat = ee.Image(ee.ImageCollection('LANDSAT/LT05/C01/T1_TOA')\n",
"  # Filter to get only one year of images. \\\n",
"  .filterDate('2011-01-01', '2011-12-31')\n",
"  # Filter to get only images under the region of interest. \\\n",
"  .filterBounds(roi)\n",
"  # Sort by scene cloudiness, ascending. \\\n",
"  .sort('CLOUD_COVER')\n",
"  # Get the first (least cloudy) scene. \\\n",
"  .first())\n",
"\n",
"# Compute cloud score.\n",
"cloudScore = ee.Algorithms.Landsat.simpleCloudScore(landsat).select('cloud')\n",
"\n",
"# Mask the input for clouds.  Compute the min of the input mask to mask\n",
"# pixels where any band is masked.  Combine that with the cloud mask.\n",
"input = landsat.updateMask(landsat.mask().reduce('min').And(cloudScore.lte(50)))\n",
"\n",
"# Use MODIS land cover, IGBP classification, for training.\n",
"modis = ee.Image('MODIS/051/MCD12Q1/2011_01_01') \\\n",
"    .select('Land_Cover_Type_1')\n",
"\n",
"# Sample the input imagery to get a FeatureCollection of training data.\n",
"training = input.addBands(modis).sample(**{\n",
"  'numPixels': 5000,\n",
"  'seed': 0\n",
"})\n",
"\n",
"# Make a Random Forest classifier and train it.\n",
"classifier = ee.Classifier.randomForest(10) \\\n",
"    .train(training, 'Land_Cover_Type_1')\n",
"\n",
"# Classify the input imagery.\n",
"classified = input.classify(classifier)\n",
"\n",
"# Get a confusion matrix representing resubstitution accuracy.\n",
"trainAccuracy = classifier.confusionMatrix()\n",
"print('Resubstitution error matrix: ', trainAccuracy)\n",
"print('Training overall accuracy: ', trainAccuracy.accuracy())\n",
"\n",
"# Sample the input with a different random seed to get validation data.\n",
"validation = input.addBands(modis).sample(**{\n",
"  'numPixels': 5000,\n",
"  'seed': 1\n",
"  # Filter the result to get rid of any {} pixels.\n",
"}).filter(ee.Filter.neq('B1', {}))\n",
"\n",
"# Classify the validation data.\n",
"validated = validation.classify(classifier)\n",
"\n",
"# Get a confusion matrix representing expected accuracy.\n",
"testAccuracy = validated.errorMatrix('Land_Cover_Type_1', 'classification')\n",
"print('Validation error matrix: ', testAccuracy)\n",
"print('Validation overall accuracy: ', testAccuracy.accuracy())\n",
"\n",
"# Define a palette for the IGBP classification.\n",
"igbpPalette = [\n",
"  'aec3d4', # water\n",
"  '152106', '225129', '369b47', '30eb5b', '387242', # forest\n",
"  '6a2325', 'c3aa69', 'b76031', 'd9903d', '91af40',  # shrub, grass\n",
"  '111149', # wetlands\n",
"  'cdb33b', # croplands\n",
"  'cc0013', # urban\n",
"  '33280d', # crop mosaic\n",
"  'd7cdcc', # snow and ice\n",
"  'f7e084', # barren\n",
"  '6f6f6f'  # tundra\n",
"]\n",
"\n",
"# Display the input and the classification.\n",
"ee_layers.append(EarthEngineLayer(ee_object=input, vis_params={'bands':['B3','B2','B1'],'max':0.4}))\n",
"ee_layers.append(EarthEngineLayer(ee_object=classified, vis_params={'palette':igbpPalette,'min':0,'max':17}))\n",
"\n",
"\n",
"\n"
   ]
  },
  {
   "cell_type": "markdown",
   "metadata": {},
   "source": [
    "Then just pass these layers to a `pydeck.Deck` instance, and call `.show()` to create a map:"
   ]
  },
  {
   "cell_type": "code",
   "execution_count": 8,
   "metadata": {},
   "outputs": [
    {
     "data": {
      "application/vnd.jupyter.widget-view+json": {
       "model_id": "f3c23e300d2c4e6ab00a774d57c02a70",
       "version_major": 2,
       "version_minor": 0
      },
      "text/plain": [
       "DeckGLWidget(custom_libraries=[{'libraryName': 'EarthEngineLayerLibrary', 'resourceUri': 'https://cdn.jsdelivr…"
      ]
     },
     "metadata": {},
     "output_type": "display_data"
    }
   ],
   "source": [
    "r = pdk.Deck(layers=ee_layers, initial_view_state=view_state)\n",
    "r.show()"
   ]
  },
  {
   "cell_type": "code",
   "execution_count": null,
   "metadata": {},
   "outputs": [],
   "source": []
  },
  {
   "cell_type": "code",
   "execution_count": null,
   "metadata": {},
   "outputs": [],
   "source": []
  }
 ],
 "metadata": {
  "kernelspec": {
   "display_name": "Python 3",
   "language": "python",
   "name": "python3"
  },
  "language_info": {
   "codemirror_mode": {
    "name": "ipython",
    "version": 3
   },
   "file_extension": ".py",
   "mimetype": "text/x-python",
   "name": "python",
   "nbconvert_exporter": "python",
   "pygments_lexer": "ipython3",
   "version": "3.7.6"
  }
 },
 "nbformat": 4,
 "nbformat_minor": 4
}
