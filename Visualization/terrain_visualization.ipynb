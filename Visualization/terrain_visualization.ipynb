{
 "cells": [
  {
   "cell_type": "markdown",
   "metadata": {},
   "source": [
    "# Pydeck Earth Engine Introduction\n",
    "\n",
    "This is an introduction to using [Pydeck](https://pydeck.gl) and [Deck.gl](https://deck.gl) with [Google Earth Engine](https://earthengine.google.com/) in Jupyter Notebooks."
   ]
  },
  {
   "cell_type": "markdown",
   "metadata": {},
   "source": [
    "If you wish to run this locally, you'll need to install some dependencies. Installing into a new Conda environment is recommended. To create and enter the environment, run:\n",
    "```\n",
    "conda create -n pydeck-ee -c conda-forge python jupyter notebook pydeck earthengine-api requests -y\n",
    "source activate pydeck-ee\n",
    "jupyter nbextension install --sys-prefix --symlink --overwrite --py pydeck\n",
    "jupyter nbextension enable --sys-prefix --py pydeck\n",
    "```\n",
    "then open Jupyter Notebook with `jupyter notebook`."
   ]
  },
  {
   "cell_type": "markdown",
   "metadata": {},
   "source": [
    "Now in a Python Jupyter Notebook, let's first import required packages:"
   ]
  },
  {
   "cell_type": "code",
   "execution_count": 1,
   "metadata": {},
   "outputs": [],
   "source": [
    "from pydeck_earthengine_layers import EarthEngineLayer\n",
    "import pydeck as pdk\n",
    "import requests\n",
    "import ee"
   ]
  },
  {
   "cell_type": "markdown",
   "metadata": {},
   "source": [
    "## Authentication\n",
    "\n",
    "Using Earth Engine requires authentication. If you don't have a Google account approved for use with Earth Engine, you'll need to request access. For more information and to sign up, go to https://signup.earthengine.google.com/."
   ]
  },
  {
   "cell_type": "markdown",
   "metadata": {},
   "source": [
    "If you haven't used Earth Engine in Python before, you'll need to run the following authentication command. If you've previously authenticated in Python or the command line, you can skip the next line.\n",
    "\n",
    "Note that this creates a prompt which waits for user input. If you don't see a prompt, you may need to authenticate on the command line with `earthengine authenticate` and then return here, skipping the Python authentication."
   ]
  },
  {
   "cell_type": "code",
   "execution_count": null,
   "metadata": {},
   "outputs": [],
   "source": [
    "try:\n",
    "    ee.Initialize()\n",
    "except Exception as e:\n",
    "    ee.Authenticate()\n",
    "    ee.Initialize()"
   ]
  },
  {
   "cell_type": "markdown",
   "metadata": {},
   "source": [
    "## Create Map\n",
    "\n",
    "Next it's time to create a map. Here we create an `ee.Image` object"
   ]
  },
  {
   "cell_type": "code",
   "execution_count": null,
   "metadata": {},
   "outputs": [],
   "source": [
    "# Initialize objects\n",
    "ee_layers = []\n",
    "view_state = pdk.ViewState(latitude=37.7749295, longitude=-122.4194155, zoom=10, bearing=0, pitch=45)"
   ]
  },
  {
   "cell_type": "code",
   "execution_count": 4,
   "metadata": {},
   "outputs": [],
   "source": [
"# %%\n",
"# Add Earth Engine dataset\n",
"# Use an elevation dataset and terrain functions to create\n",
"# a custom visualization of topography.\n",
"\n",
"# Load a global elevation image.\n",
"elev = ee.Image('USGS/GMTED2010')\n",
"\n",
"# Zoom to an area of interest.\n",
"view_state = pdk.ViewState(longitude=-121.069, latitude=50.709, zoom=6)\n",
"\n",
"# Add the elevation to the map.\n",
"ee_layers.append(EarthEngineLayer(ee_object=elev, vis_params={}))\n",
"\n",
"# Use the terrain algorithms to compute a hillshade with 8-bit values.\n",
"shade = ee.Terrain.hillshade(elev)\n",
"ee_layers.append(EarthEngineLayer(ee_object=shade, vis_params={}))\n",
"\n",
"# Create a \"sea\" variable to be used for cartographic purposes\n",
"sea = elev.lte(0)\n",
"ee_layers.append(EarthEngineLayer(ee_object=sea.mask(sea), vis_params={'palette':'000022'}))\n",
"\n",
"# Create a custom elevation palette from hex strings.\n",
"elevationPalette = ['006600', '002200', 'fff700', 'ab7634', 'c4d0ff', 'ffffff']\n",
"# Use these visualization parameters, customized by location.\n",
"visParams = {'min': 1, 'max': 3000, 'palette': elevationPalette}\n",
"\n",
"# Create a mosaic of the sea and the elevation data\n",
"visualized = ee.ImageCollection([\n",
"  # Mask the elevation to get only land\n",
"  elev.mask(sea.Not()).visualize(**visParams),\n",
"  # Use the sea mask directly to display sea.\n",
"  sea.mask(sea).visualize(**{'palette':'000022'})\n",
"]).mosaic()\n",
"\n",
"# Note that the visualization image doesn't require visualization parameters.\n",
"ee_layers.append(EarthEngineLayer(ee_object=visualized, vis_params={}))\n",
"\n",
"# Convert the visualized elevation to HSV, first converting to [0, 1] data.\n",
"hsv = visualized.divide(255).rgbToHsv()\n",
"# Select only the hue and saturation bands.\n",
"hs = hsv.select(0, 1)\n",
"# Convert the hillshade to [0, 1] data, as expected by the HSV algorithm.\n",
"v = shade.divide(255)\n",
"# Create a visualization image by converting back to RGB from HSV.\n",
"# Note the cast to byte in order to export the image correctly.\n",
"rgb = hs.addBands(v).hsvToRgb().multiply(255).byte()\n",
"ee_layers.append(EarthEngineLayer(ee_object=rgb, vis_params={}))\n",
"\n",
"\n",
"\n"
   ]
  },
  {
   "cell_type": "markdown",
   "metadata": {},
   "source": [
    "Then just pass these layers to a `pydeck.Deck` instance, and call `.show()` to create a map:"
   ]
  },
  {
   "cell_type": "code",
   "execution_count": 8,
   "metadata": {},
   "outputs": [
    {
     "data": {
      "application/vnd.jupyter.widget-view+json": {
       "model_id": "f3c23e300d2c4e6ab00a774d57c02a70",
       "version_major": 2,
       "version_minor": 0
      },
      "text/plain": [
       "DeckGLWidget(custom_libraries=[{'libraryName': 'EarthEngineLayerLibrary', 'resourceUri': 'https://cdn.jsdelivr…"
      ]
     },
     "metadata": {},
     "output_type": "display_data"
    }
   ],
   "source": [
    "r = pdk.Deck(layers=ee_layers, initial_view_state=view_state)\n",
    "r.show()"
   ]
  },
  {
   "cell_type": "code",
   "execution_count": null,
   "metadata": {},
   "outputs": [],
   "source": []
  },
  {
   "cell_type": "code",
   "execution_count": null,
   "metadata": {},
   "outputs": [],
   "source": []
  }
 ],
 "metadata": {
  "kernelspec": {
   "display_name": "Python 3",
   "language": "python",
   "name": "python3"
  },
  "language_info": {
   "codemirror_mode": {
    "name": "ipython",
    "version": 3
   },
   "file_extension": ".py",
   "mimetype": "text/x-python",
   "name": "python",
   "nbconvert_exporter": "python",
   "pygments_lexer": "ipython3",
   "version": "3.7.6"
  }
 },
 "nbformat": 4,
 "nbformat_minor": 4
}
