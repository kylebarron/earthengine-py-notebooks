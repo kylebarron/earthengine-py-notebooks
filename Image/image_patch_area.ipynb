{
 "cells": [
  {
   "cell_type": "markdown",
   "metadata": {},
   "source": [
    "# Pydeck Earth Engine Introduction\n",
    "\n",
    "This is an introduction to using [Pydeck](https://pydeck.gl) and [Deck.gl](https://deck.gl) with [Google Earth Engine](https://earthengine.google.com/) in Jupyter Notebooks."
   ]
  },
  {
   "cell_type": "markdown",
   "metadata": {},
   "source": [
    "If you wish to run this locally, you'll need to install some dependencies. Installing into a new Conda environment is recommended. To create and enter the environment, run:\n",
    "```\n",
    "conda create -n pydeck-ee -c conda-forge python jupyter notebook pydeck earthengine-api requests -y\n",
    "source activate pydeck-ee\n",
    "jupyter nbextension install --sys-prefix --symlink --overwrite --py pydeck\n",
    "jupyter nbextension enable --sys-prefix --py pydeck\n",
    "```\n",
    "then open Jupyter Notebook with `jupyter notebook`."
   ]
  },
  {
   "cell_type": "markdown",
   "metadata": {},
   "source": [
    "Now in a Python Jupyter Notebook, let's first import required packages:"
   ]
  },
  {
   "cell_type": "code",
   "execution_count": 1,
   "metadata": {},
   "outputs": [],
   "source": [
    "from pydeck_earthengine_layers import EarthEngineLayer\n",
    "import pydeck as pdk\n",
    "import requests\n",
    "import ee"
   ]
  },
  {
   "cell_type": "markdown",
   "metadata": {},
   "source": [
    "## Authentication\n",
    "\n",
    "Using Earth Engine requires authentication. If you don't have a Google account approved for use with Earth Engine, you'll need to request access. For more information and to sign up, go to https://signup.earthengine.google.com/."
   ]
  },
  {
   "cell_type": "markdown",
   "metadata": {},
   "source": [
    "If you haven't used Earth Engine in Python before, you'll need to run the following authentication command. If you've previously authenticated in Python or the command line, you can skip the next line.\n",
    "\n",
    "Note that this creates a prompt which waits for user input. If you don't see a prompt, you may need to authenticate on the command line with `earthengine authenticate` and then return here, skipping the Python authentication."
   ]
  },
  {
   "cell_type": "code",
   "execution_count": null,
   "metadata": {},
   "outputs": [],
   "source": [
    "try:\n",
    "    ee.Initialize()\n",
    "except Exception as e:\n",
    "    ee.Authenticate()\n",
    "    ee.Initialize()"
   ]
  },
  {
   "cell_type": "markdown",
   "metadata": {},
   "source": [
    "## Create Map\n",
    "\n",
    "Next it's time to create a map. Here we create an `ee.Image` object"
   ]
  },
  {
   "cell_type": "code",
   "execution_count": null,
   "metadata": {},
   "outputs": [],
   "source": [
    "# Initialize objects\n",
    "ee_layers = []\n",
    "view_state = pdk.ViewState(latitude=37.7749295, longitude=-122.4194155, zoom=10, bearing=0, pitch=45)"
   ]
  },
  {
   "cell_type": "code",
   "execution_count": 4,
   "metadata": {},
   "outputs": [],
   "source": [
"# %%\n",
"# Add Earth Engine dataset\n",
"geometry = ee.Geometry.Polygon(\n",
"        [[[-121.53162002563477, 37.62442917942242],\n",
"          [-121.53822898864746, 37.61871860390886],\n",
"          [-121.53307914733887, 37.61144378319061],\n",
"          [-121.5281867980957, 37.60784010375065],\n",
"          [-121.52209281921387, 37.60586820524277],\n",
"          [-121.51840209960938, 37.606344185530936],\n",
"          [-121.51273727416992, 37.60777210812061],\n",
"          [-121.50175094604492, 37.6082480762255],\n",
"          [-121.49454116821289, 37.61239566936059],\n",
"          [-121.49127960205078, 37.62136999709244],\n",
"          [-121.49797439575195, 37.62667249978579],\n",
"          [-121.5252685546875, 37.62653654290317]]])\n",
"\n",
"# Load a Landsat 8 image and display the thermal band.\n",
"image = ee.Image('LANDSAT/LC8_L1T_TOA/LC80440342014077LGN00').clip(geometry)\n",
"view_state = pdk.ViewState(longitude=-121.51385307312012, latitude=37.61767615130697, zoom=14)\n",
"#Map.addLayer(image, {'bands': ['B10'], 'min': 270, 'max': 310}, 'LST')\n",
"#print(image)\n",
"\n",
"# Threshold the thermal band to find \"hot\" objects.\n",
"hotspots = image.select('B10').gt(303)\n",
"\n",
"# Mask \"cold\" pixels.\n",
"hotspots = hotspots.mask(hotspots)\n",
"#Map.addLayer(hotspots, {'palette': 'FF0000'}, 'hotspots')\n",
"\n",
"# Compute the number of pixels in each patch.\n",
"patchsize = hotspots.connectedPixelCount(100, False)\n",
"ee_layers.append(EarthEngineLayer(ee_object=patchsize, vis_params={}))\n",
"largePatches = patchsize.gt(4)\n",
"largePatches = largePatches.updateMask(largePatches)\n",
"ee_layers.append(EarthEngineLayer(ee_object=largePatches, vis_params={}))\n",
"\n",
"pixelAreaAllPatches = hotspots.multiply(ee.Image.pixelArea())\n",
"pixelAreaLargePatch = largePatches.multiply(ee.Image.pixelArea())\n",
"areaAllPathces = pixelAreaAllPatches.reduceRegion(**{'reducer':ee.Reducer.sum(),'geometry':geometry})\n",
"areaLargePatch = pixelAreaLargePatch.reduceRegion(**{'reducer':ee.Reducer.sum(),'geometry':geometry})\n",
"\n",
"print(areaAllPathces.getInfo())\n",
"print(areaLargePatch.getInfo())\n",
"\n"
   ]
  },
  {
   "cell_type": "markdown",
   "metadata": {},
   "source": [
    "Then just pass these layers to a `pydeck.Deck` instance, and call `.show()` to create a map:"
   ]
  },
  {
   "cell_type": "code",
   "execution_count": 8,
   "metadata": {},
   "outputs": [
    {
     "data": {
      "application/vnd.jupyter.widget-view+json": {
       "model_id": "f3c23e300d2c4e6ab00a774d57c02a70",
       "version_major": 2,
       "version_minor": 0
      },
      "text/plain": [
       "DeckGLWidget(custom_libraries=[{'libraryName': 'EarthEngineLayerLibrary', 'resourceUri': 'https://cdn.jsdelivr…"
      ]
     },
     "metadata": {},
     "output_type": "display_data"
    }
   ],
   "source": [
    "r = pdk.Deck(layers=ee_layers, initial_view_state=view_state)\n",
    "r.show()"
   ]
  },
  {
   "cell_type": "code",
   "execution_count": null,
   "metadata": {},
   "outputs": [],
   "source": []
  },
  {
   "cell_type": "code",
   "execution_count": null,
   "metadata": {},
   "outputs": [],
   "source": []
  }
 ],
 "metadata": {
  "kernelspec": {
   "display_name": "Python 3",
   "language": "python",
   "name": "python3"
  },
  "language_info": {
   "codemirror_mode": {
    "name": "ipython",
    "version": 3
   },
   "file_extension": ".py",
   "mimetype": "text/x-python",
   "name": "python",
   "nbconvert_exporter": "python",
   "pygments_lexer": "ipython3",
   "version": "3.7.6"
  }
 },
 "nbformat": 4,
 "nbformat_minor": 4
}
