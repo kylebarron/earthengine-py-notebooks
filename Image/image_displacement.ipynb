{
 "cells": [
  {
   "cell_type": "markdown",
   "metadata": {},
   "source": [
    "# Pydeck Earth Engine Introduction\n",
    "\n",
    "This is an introduction to using [Pydeck](https://pydeck.gl) and [Deck.gl](https://deck.gl) with [Google Earth Engine](https://earthengine.google.com/) in Jupyter Notebooks."
   ]
  },
  {
   "cell_type": "markdown",
   "metadata": {},
   "source": [
    "If you wish to run this locally, you'll need to install some dependencies. Installing into a new Conda environment is recommended. To create and enter the environment, run:\n",
    "```\n",
    "conda create -n pydeck-ee -c conda-forge python jupyter notebook pydeck earthengine-api requests -y\n",
    "source activate pydeck-ee\n",
    "jupyter nbextension install --sys-prefix --symlink --overwrite --py pydeck\n",
    "jupyter nbextension enable --sys-prefix --py pydeck\n",
    "```\n",
    "then open Jupyter Notebook with `jupyter notebook`."
   ]
  },
  {
   "cell_type": "markdown",
   "metadata": {},
   "source": [
    "Now in a Python Jupyter Notebook, let's first import required packages:"
   ]
  },
  {
   "cell_type": "code",
   "execution_count": 1,
   "metadata": {},
   "outputs": [],
   "source": [
    "from pydeck_earthengine_layers import EarthEngineLayer\n",
    "import pydeck as pdk\n",
    "import requests\n",
    "import ee"
   ]
  },
  {
   "cell_type": "markdown",
   "metadata": {},
   "source": [
    "## Authentication\n",
    "\n",
    "Using Earth Engine requires authentication. If you don't have a Google account approved for use with Earth Engine, you'll need to request access. For more information and to sign up, go to https://signup.earthengine.google.com/."
   ]
  },
  {
   "cell_type": "markdown",
   "metadata": {},
   "source": [
    "If you haven't used Earth Engine in Python before, you'll need to run the following authentication command. If you've previously authenticated in Python or the command line, you can skip the next line.\n",
    "\n",
    "Note that this creates a prompt which waits for user input. If you don't see a prompt, you may need to authenticate on the command line with `earthengine authenticate` and then return here, skipping the Python authentication."
   ]
  },
  {
   "cell_type": "code",
   "execution_count": null,
   "metadata": {},
   "outputs": [],
   "source": [
    "try:\n",
    "    ee.Initialize()\n",
    "except Exception as e:\n",
    "    ee.Authenticate()\n",
    "    ee.Initialize()"
   ]
  },
  {
   "cell_type": "markdown",
   "metadata": {},
   "source": [
    "## Create Map\n",
    "\n",
    "Next it's time to create a map. Here we create an `ee.Image` object"
   ]
  },
  {
   "cell_type": "code",
   "execution_count": null,
   "metadata": {},
   "outputs": [],
   "source": [
    "# Initialize objects\n",
    "ee_layers = []\n",
    "view_state = pdk.ViewState(latitude=37.7749295, longitude=-122.4194155, zoom=10, bearing=0, pitch=45)"
   ]
  },
  {
   "cell_type": "code",
   "execution_count": 4,
   "metadata": {},
   "outputs": [],
   "source": [
"# %%\n",
"# Add Earth Engine dataset\n",
"import math\n",
"\n",
"# Load the two images to be registered.\n",
"image1 = ee.Image('SKYSAT/GEN-A/PUBLIC/ORTHO/MULTISPECTRAL/s01_20150502T082736Z')\n",
"image2 = ee.Image('SKYSAT/GEN-A/PUBLIC/ORTHO/MULTISPECTRAL/s01_20150305T081019Z')\n",
"\n",
"# Use bicubic resampling during registration.\n",
"image1Orig = image1.resample('bicubic')\n",
"image2Orig = image2.resample('bicubic')\n",
"\n",
"# Choose to register using only the 'R' bAnd.\n",
"image1RedBAnd = image1Orig.select('R')\n",
"image2RedBAnd = image2Orig.select('R')\n",
"\n",
"# Determine the displacement by matching only the 'R' bAnds.\n",
"displacement = image2RedBAnd.displacement(**{\n",
"  'referenceImage': image1RedBAnd,\n",
"  'maxOffset': 50.0,\n",
"  'patchWidth': 100.0\n",
"})\n",
"\n",
"# Compute image offset And direction.\n",
"offset = displacement.select('dx').hypot(displacement.select('dy'))\n",
"angle = displacement.select('dx').atan2(displacement.select('dy'))\n",
"\n",
"# Display offset distance And angle.\n",
"ee_layers.append(EarthEngineLayer(ee_object=offset, vis_params={'min':0,'max':20}))\n",
"ee_layers.append(EarthEngineLayer(ee_object=angle, vis_params={'min':-math.pi,'max':math.pi}))\n",
"view_state = pdk.ViewState(longitude=37.44, latitude=0.58, zoom=15)\n",
"\n",
"\n",
"# Use the computed displacement to register all Original bAnds.\n",
"registered = image2Orig.displace(displacement)\n",
"\n",
"# Show the results of co-registering the images.\n",
"visParams = {'bands': ['R', 'G', 'B'], 'max': 4000}\n",
"ee_layers.append(EarthEngineLayer(ee_object=image1Orig, vis_params=visParams))\n",
"ee_layers.append(EarthEngineLayer(ee_object=image2Orig, vis_params=visParams))\n",
"ee_layers.append(EarthEngineLayer(ee_object=registered, vis_params=visParams))\n",
"\n",
"\n",
"alsoRegistered = image2Orig.register(**{\n",
"  'referenceImage': image1Orig,\n",
"  'maxOffset': 50.0,\n",
"  'patchWidth': 100.0\n",
"})\n",
"ee_layers.append(EarthEngineLayer(ee_object=alsoRegistered, vis_params=visParams))\n",
"\n",
"\n",
"\n"
   ]
  },
  {
   "cell_type": "markdown",
   "metadata": {},
   "source": [
    "Then just pass these layers to a `pydeck.Deck` instance, and call `.show()` to create a map:"
   ]
  },
  {
   "cell_type": "code",
   "execution_count": 8,
   "metadata": {},
   "outputs": [
    {
     "data": {
      "application/vnd.jupyter.widget-view+json": {
       "model_id": "f3c23e300d2c4e6ab00a774d57c02a70",
       "version_major": 2,
       "version_minor": 0
      },
      "text/plain": [
       "DeckGLWidget(custom_libraries=[{'libraryName': 'EarthEngineLayerLibrary', 'resourceUri': 'https://cdn.jsdelivr…"
      ]
     },
     "metadata": {},
     "output_type": "display_data"
    }
   ],
   "source": [
    "r = pdk.Deck(layers=ee_layers, initial_view_state=view_state)\n",
    "r.show()"
   ]
  },
  {
   "cell_type": "code",
   "execution_count": null,
   "metadata": {},
   "outputs": [],
   "source": []
  },
  {
   "cell_type": "code",
   "execution_count": null,
   "metadata": {},
   "outputs": [],
   "source": []
  }
 ],
 "metadata": {
  "kernelspec": {
   "display_name": "Python 3",
   "language": "python",
   "name": "python3"
  },
  "language_info": {
   "codemirror_mode": {
    "name": "ipython",
    "version": 3
   },
   "file_extension": ".py",
   "mimetype": "text/x-python",
   "name": "python",
   "nbconvert_exporter": "python",
   "pygments_lexer": "ipython3",
   "version": "3.7.6"
  }
 },
 "nbformat": 4,
 "nbformat_minor": 4
}
