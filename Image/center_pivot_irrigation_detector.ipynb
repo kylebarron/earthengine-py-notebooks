{
 "cells": [
  {
   "cell_type": "markdown",
   "metadata": {},
   "source": [
    "# Pydeck Earth Engine Introduction\n",
    "\n",
    "This is an introduction to using [Pydeck](https://pydeck.gl) and [Deck.gl](https://deck.gl) with [Google Earth Engine](https://earthengine.google.com/) in Jupyter Notebooks."
   ]
  },
  {
   "cell_type": "markdown",
   "metadata": {},
   "source": [
    "If you wish to run this locally, you'll need to install some dependencies. Installing into a new Conda environment is recommended. To create and enter the environment, run:\n",
    "```\n",
    "conda create -n pydeck-ee -c conda-forge python jupyter notebook pydeck earthengine-api requests -y\n",
    "source activate pydeck-ee\n",
    "jupyter nbextension install --sys-prefix --symlink --overwrite --py pydeck\n",
    "jupyter nbextension enable --sys-prefix --py pydeck\n",
    "```\n",
    "then open Jupyter Notebook with `jupyter notebook`."
   ]
  },
  {
   "cell_type": "markdown",
   "metadata": {},
   "source": [
    "Now in a Python Jupyter Notebook, let's first import required packages:"
   ]
  },
  {
   "cell_type": "code",
   "execution_count": 1,
   "metadata": {},
   "outputs": [],
   "source": [
    "from pydeck_earthengine_layers import EarthEngineLayer\n",
    "import pydeck as pdk\n",
    "import requests\n",
    "import ee"
   ]
  },
  {
   "cell_type": "markdown",
   "metadata": {},
   "source": [
    "## Authentication\n",
    "\n",
    "Using Earth Engine requires authentication. If you don't have a Google account approved for use with Earth Engine, you'll need to request access. For more information and to sign up, go to https://signup.earthengine.google.com/."
   ]
  },
  {
   "cell_type": "markdown",
   "metadata": {},
   "source": [
    "If you haven't used Earth Engine in Python before, you'll need to run the following authentication command. If you've previously authenticated in Python or the command line, you can skip the next line.\n",
    "\n",
    "Note that this creates a prompt which waits for user input. If you don't see a prompt, you may need to authenticate on the command line with `earthengine authenticate` and then return here, skipping the Python authentication."
   ]
  },
  {
   "cell_type": "code",
   "execution_count": null,
   "metadata": {},
   "outputs": [],
   "source": [
    "try:\n",
    "    ee.Initialize()\n",
    "except Exception as e:\n",
    "    ee.Authenticate()\n",
    "    ee.Initialize()"
   ]
  },
  {
   "cell_type": "markdown",
   "metadata": {},
   "source": [
    "## Create Map\n",
    "\n",
    "Next it's time to create a map. Here we create an `ee.Image` object"
   ]
  },
  {
   "cell_type": "code",
   "execution_count": null,
   "metadata": {},
   "outputs": [],
   "source": [
    "# Initialize objects\n",
    "ee_layers = []\n",
    "view_state = pdk.ViewState(latitude=37.7749295, longitude=-122.4194155, zoom=10, bearing=0, pitch=45)"
   ]
  },
  {
   "cell_type": "code",
   "execution_count": 4,
   "metadata": {},
   "outputs": [],
   "source": [
"# %%\n",
"# Add Earth Engine dataset\n",
"# Center-pivot Irrigation Detector.\n",
"#\n",
"# Finds circles that are 500m in radius.\n",
"view_state = pdk.ViewState(longitude=-106.06, latitude=37.71, zoom=12)\n",
"\n",
"# A nice NDVI palette.\n",
"palette = [\n",
"  'FFFFFF', 'CE7E45', 'DF923D', 'F1B555', 'FCD163', '99B718',\n",
"  '74A901', '66A000', '529400', '3E8601', '207401', '056201',\n",
"  '004C00', '023B01', '012E01', '011D01', '011301']\n",
"\n",
"# Just display the image with the palette.\n",
"image = ee.Image('LANDSAT/LC08/C01/T1_TOA/LC08_034034_20170608')\n",
"ndvi = image.normalizedDifference(['B5','B4'])\n",
"\n",
"ee_layers.append(EarthEngineLayer(ee_object=ndvi, vis_params={'min':0,'max':1,'palette':palette}))\n",
"\n",
"# Find the difference between convolution with circles and squares.\n",
"# This difference, in theory, will be strongest at the center of\n",
"# circles in the image. This region is filled with circular farms\n",
"# with radii on the order of 500m.\n",
"farmSize = 500  # Radius of a farm, in meters.\n",
"circleKernel = ee.Kernel.circle(farmSize, 'meters')\n",
"squareKernel = ee.Kernel.square(farmSize, 'meters')\n",
"circles = ndvi.convolve(circleKernel)\n",
"squares = ndvi.convolve(squareKernel)\n",
"diff = circles.subtract(squares)\n",
"\n",
"# Scale by 100 and find the best fitting pixel in each neighborhood.\n",
"diff = diff.abs().multiply(100).toByte()\n",
"max = diff.focal_max(**{'radius': farmSize * 1.8, 'units': 'meters'})\n",
"# If a pixel isn't the local max, set it to 0.\n",
"local = diff.where(diff.neq(max), 0)\n",
"thresh = local.gt(2)\n",
"\n",
"# Here, we highlight the maximum differences as \"Kernel Peaks\"\n",
"# and draw them in red.\n",
"peaks = thresh.focal_max(**{'kernel': circleKernel})\n",
"ee_layers.append(EarthEngineLayer(ee_object=peaks.updateMask(peaks), vis_params={'palette':'FF3737'}))\n",
"\n",
"# Detect the edges of the features.  Discard the edges with lower intensity.\n",
"canny = ee.Algorithms.CannyEdgeDetector(ndvi, 0)\n",
"canny = canny.gt(0.3)\n",
"\n",
"# Create a \"ring\" kernel from two circular kernels.\n",
"inner = ee.Kernel.circle(farmSize - 20, 'meters', False, -1)\n",
"outer = ee.Kernel.circle(farmSize + 20, 'meters', False, 1)\n",
"ring = outer.add(inner, True)\n",
"\n",
"# Highlight the places where the feature edges best match the circle kernel.\n",
"centers = canny.convolve(ring).gt(0.5).focal_max({'kernel': circleKernel})\n",
"ee_layers.append(EarthEngineLayer(ee_object=centers.updateMask(centers), vis_params={'palette':'4285FF'}))\n",
"\n",
"\n"
   ]
  },
  {
   "cell_type": "markdown",
   "metadata": {},
   "source": [
    "Then just pass these layers to a `pydeck.Deck` instance, and call `.show()` to create a map:"
   ]
  },
  {
   "cell_type": "code",
   "execution_count": 8,
   "metadata": {},
   "outputs": [
    {
     "data": {
      "application/vnd.jupyter.widget-view+json": {
       "model_id": "f3c23e300d2c4e6ab00a774d57c02a70",
       "version_major": 2,
       "version_minor": 0
      },
      "text/plain": [
       "DeckGLWidget(custom_libraries=[{'libraryName': 'EarthEngineLayerLibrary', 'resourceUri': 'https://cdn.jsdelivr…"
      ]
     },
     "metadata": {},
     "output_type": "display_data"
    }
   ],
   "source": [
    "r = pdk.Deck(layers=ee_layers, initial_view_state=view_state)\n",
    "r.show()"
   ]
  },
  {
   "cell_type": "code",
   "execution_count": null,
   "metadata": {},
   "outputs": [],
   "source": []
  },
  {
   "cell_type": "code",
   "execution_count": null,
   "metadata": {},
   "outputs": [],
   "source": []
  }
 ],
 "metadata": {
  "kernelspec": {
   "display_name": "Python 3",
   "language": "python",
   "name": "python3"
  },
  "language_info": {
   "codemirror_mode": {
    "name": "ipython",
    "version": 3
   },
   "file_extension": ".py",
   "mimetype": "text/x-python",
   "name": "python",
   "nbconvert_exporter": "python",
   "pygments_lexer": "ipython3",
   "version": "3.7.6"
  }
 },
 "nbformat": 4,
 "nbformat_minor": 4
}
