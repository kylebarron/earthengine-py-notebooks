{
 "cells": [
  {
   "cell_type": "markdown",
   "metadata": {},
   "source": [
    "# Pydeck Earth Engine Introduction\n",
    "\n",
    "This is an introduction to using [Pydeck](https://pydeck.gl) and [Deck.gl](https://deck.gl) with [Google Earth Engine](https://earthengine.google.com/) in Jupyter Notebooks."
   ]
  },
  {
   "cell_type": "markdown",
   "metadata": {},
   "source": [
    "If you wish to run this locally, you'll need to install some dependencies. Installing into a new Conda environment is recommended. To create and enter the environment, run:\n",
    "```\n",
    "conda create -n pydeck-ee -c conda-forge python jupyter notebook pydeck earthengine-api requests -y\n",
    "source activate pydeck-ee\n",
    "jupyter nbextension install --sys-prefix --symlink --overwrite --py pydeck\n",
    "jupyter nbextension enable --sys-prefix --py pydeck\n",
    "```\n",
    "then open Jupyter Notebook with `jupyter notebook`."
   ]
  },
  {
   "cell_type": "markdown",
   "metadata": {},
   "source": [
    "Now in a Python Jupyter Notebook, let's first import required packages:"
   ]
  },
  {
   "cell_type": "code",
   "execution_count": 1,
   "metadata": {},
   "outputs": [],
   "source": [
    "from pydeck_earthengine_layers import EarthEngineLayer\n",
    "import pydeck as pdk\n",
    "import requests\n",
    "import ee"
   ]
  },
  {
   "cell_type": "markdown",
   "metadata": {},
   "source": [
    "## Authentication\n",
    "\n",
    "Using Earth Engine requires authentication. If you don't have a Google account approved for use with Earth Engine, you'll need to request access. For more information and to sign up, go to https://signup.earthengine.google.com/."
   ]
  },
  {
   "cell_type": "markdown",
   "metadata": {},
   "source": [
    "If you haven't used Earth Engine in Python before, you'll need to run the following authentication command. If you've previously authenticated in Python or the command line, you can skip the next line.\n",
    "\n",
    "Note that this creates a prompt which waits for user input. If you don't see a prompt, you may need to authenticate on the command line with `earthengine authenticate` and then return here, skipping the Python authentication."
   ]
  },
  {
   "cell_type": "code",
   "execution_count": null,
   "metadata": {},
   "outputs": [],
   "source": [
    "try:\n",
    "    ee.Initialize()\n",
    "except Exception as e:\n",
    "    ee.Authenticate()\n",
    "    ee.Initialize()"
   ]
  },
  {
   "cell_type": "markdown",
   "metadata": {},
   "source": [
    "## Create Map\n",
    "\n",
    "Next it's time to create a map. Here we create an `ee.Image` object"
   ]
  },
  {
   "cell_type": "code",
   "execution_count": null,
   "metadata": {},
   "outputs": [],
   "source": [
    "# Initialize objects\n",
    "ee_layers = []\n",
    "view_state = pdk.ViewState(latitude=37.7749295, longitude=-122.4194155, zoom=10, bearing=0, pitch=45)"
   ]
  },
  {
   "cell_type": "code",
   "execution_count": 4,
   "metadata": {},
   "outputs": [],
   "source": [
"# %%\n",
"# Add Earth Engine dataset\n",
"def intersect(state):\n",
"  nPowerPlants = ee.List(state.get('power_plants')).size()\n",
"  # Return the state feature with a new property: power plant count.\n",
"  return state.set('n_power_plants', nPowerPlants)\n",
"\n",
"# Load the primary 'collection': US state boundaries.\n",
"states = ee.FeatureCollection('TIGER/2018/States')\n",
"\n",
"# Load the secondary 'collection': power plants.\n",
"powerPlants = ee.FeatureCollection('WRI/GPPD/power_plants')\n",
"\n",
"# Define a spatial filter as geometries that intersect.\n",
"spatialFilter = ee.Filter.intersects(**{\n",
"  'leftField': '.geo',\n",
"  'rightField': '.geo',\n",
"  'maxError': 10\n",
"})\n",
"\n",
"# Define a save all join.\n",
"saveAllJoin = ee.Join.saveAll(**{\n",
"  'matchesKey': 'power_plants',\n",
"})\n",
"\n",
"# Apply the join.\n",
"intersectJoined = saveAllJoin.apply(states, powerPlants, spatialFilter)\n",
"\n",
"# Add power plant count per state as a property.\n",
"intersectJoined = intersectJoined.map(intersect)\n",
"# intersectJoined = intersectJoined.map(function(state) {\n",
"#   # Get \"power_plant\" intersection list, count how many intersected this state.\n",
"#   nPowerPlants = ee.List(state.get('power_plants')).size()\n",
"#   # Return the state feature with a new property: power plant count.\n",
"#   return state.set('n_power_plants', nPowerPlants)\n",
"# })\n",
"\n",
"print(intersectJoined.getInfo())\n",
"\n",
"# # Make a bar chart for the number of power plants per state.\n",
"# chart = ui.Chart.feature.byFeature(intersectJoined, 'NAME', 'n_power_plants') \\\n",
"#   .setChartType('ColumnChart') \\\n",
"#   .setSeriesNames({n_power_plants: 'Power plants'}) \\\n",
"#   .setOptions({\n",
"#     title: 'Power plants per state',\n",
"#     hAxis: {title: 'State'},\n",
"#     vAxis: {title: 'Frequency'}})\n",
"\n",
"# # Print the chart to the console.\n",
"# print(chart)\n",
"\n",
"\n"
   ]
  },
  {
   "cell_type": "markdown",
   "metadata": {},
   "source": [
    "Then just pass these layers to a `pydeck.Deck` instance, and call `.show()` to create a map:"
   ]
  },
  {
   "cell_type": "code",
   "execution_count": 8,
   "metadata": {},
   "outputs": [
    {
     "data": {
      "application/vnd.jupyter.widget-view+json": {
       "model_id": "f3c23e300d2c4e6ab00a774d57c02a70",
       "version_major": 2,
       "version_minor": 0
      },
      "text/plain": [
       "DeckGLWidget(custom_libraries=[{'libraryName': 'EarthEngineLayerLibrary', 'resourceUri': 'https://cdn.jsdelivr…"
      ]
     },
     "metadata": {},
     "output_type": "display_data"
    }
   ],
   "source": [
    "r = pdk.Deck(layers=ee_layers, initial_view_state=view_state)\n",
    "r.show()"
   ]
  },
  {
   "cell_type": "code",
   "execution_count": null,
   "metadata": {},
   "outputs": [],
   "source": []
  },
  {
   "cell_type": "code",
   "execution_count": null,
   "metadata": {},
   "outputs": [],
   "source": []
  }
 ],
 "metadata": {
  "kernelspec": {
   "display_name": "Python 3",
   "language": "python",
   "name": "python3"
  },
  "language_info": {
   "codemirror_mode": {
    "name": "ipython",
    "version": 3
   },
   "file_extension": ".py",
   "mimetype": "text/x-python",
   "name": "python",
   "nbconvert_exporter": "python",
   "pygments_lexer": "ipython3",
   "version": "3.7.6"
  }
 },
 "nbformat": 4,
 "nbformat_minor": 4
}
