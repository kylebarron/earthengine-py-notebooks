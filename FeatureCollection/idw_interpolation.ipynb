{
 "cells": [
  {
   "cell_type": "markdown",
   "metadata": {},
   "source": [
    "# Pydeck Earth Engine Introduction\n",
    "\n",
    "This is an introduction to using [Pydeck](https://pydeck.gl) and [Deck.gl](https://deck.gl) with [Google Earth Engine](https://earthengine.google.com/) in Jupyter Notebooks."
   ]
  },
  {
   "cell_type": "markdown",
   "metadata": {},
   "source": [
    "If you wish to run this locally, you'll need to install some dependencies. Installing into a new Conda environment is recommended. To create and enter the environment, run:\n",
    "```\n",
    "conda create -n pydeck-ee -c conda-forge python jupyter notebook pydeck earthengine-api requests -y\n",
    "source activate pydeck-ee\n",
    "jupyter nbextension install --sys-prefix --symlink --overwrite --py pydeck\n",
    "jupyter nbextension enable --sys-prefix --py pydeck\n",
    "```\n",
    "then open Jupyter Notebook with `jupyter notebook`."
   ]
  },
  {
   "cell_type": "markdown",
   "metadata": {},
   "source": [
    "Now in a Python Jupyter Notebook, let's first import required packages:"
   ]
  },
  {
   "cell_type": "code",
   "execution_count": 1,
   "metadata": {},
   "outputs": [],
   "source": [
    "from pydeck_earthengine_layers import EarthEngineLayer\n",
    "import pydeck as pdk\n",
    "import requests\n",
    "import ee"
   ]
  },
  {
   "cell_type": "markdown",
   "metadata": {},
   "source": [
    "## Authentication\n",
    "\n",
    "Using Earth Engine requires authentication. If you don't have a Google account approved for use with Earth Engine, you'll need to request access. For more information and to sign up, go to https://signup.earthengine.google.com/."
   ]
  },
  {
   "cell_type": "markdown",
   "metadata": {},
   "source": [
    "If you haven't used Earth Engine in Python before, you'll need to run the following authentication command. If you've previously authenticated in Python or the command line, you can skip the next line.\n",
    "\n",
    "Note that this creates a prompt which waits for user input. If you don't see a prompt, you may need to authenticate on the command line with `earthengine authenticate` and then return here, skipping the Python authentication."
   ]
  },
  {
   "cell_type": "code",
   "execution_count": null,
   "metadata": {},
   "outputs": [],
   "source": [
    "try:\n",
    "    ee.Initialize()\n",
    "except Exception as e:\n",
    "    ee.Authenticate()\n",
    "    ee.Initialize()"
   ]
  },
  {
   "cell_type": "markdown",
   "metadata": {},
   "source": [
    "## Create Map\n",
    "\n",
    "Next it's time to create a map. Here we create an `ee.Image` object"
   ]
  },
  {
   "cell_type": "code",
   "execution_count": null,
   "metadata": {},
   "outputs": [],
   "source": [
    "# Initialize objects\n",
    "ee_layers = []\n",
    "view_state = pdk.ViewState(latitude=37.7749295, longitude=-122.4194155, zoom=10, bearing=0, pitch=45)"
   ]
  },
  {
   "cell_type": "code",
   "execution_count": 4,
   "metadata": {},
   "outputs": [],
   "source": [
"# %%\n",
"# Add Earth Engine dataset\n",
"def sampling(sample):\n",
"    lat = sample.get('latitude')\n",
"    lon = sample.get('longitude')\n",
"    ch4 = sample.get('ch4')\n",
"    return ee.Feature(ee.Geometry.Point([lon, lat]), {'ch4': ch4})\n",
"\n",
"# Import two weeks of S5P methane and composite by mean.\n",
"ch4 = ee.ImageCollection('COPERNICUS/S5P/OFFL/L3_CH4') \\\n",
"  .select('CH4_column_volume_mixing_ratio_dry_air') \\\n",
"  .filterDate('2019-08-01', '2019-08-15') \\\n",
"  .mean() \\\n",
"  .rename('ch4')\n",
"\n",
"# Define an area to perform interpolation over.\n",
"aoi = ee.Geometry.Polygon(\n",
"    [[[-95.68487605978851, 43.09844605027055],\n",
"       [-95.68487605978851, 37.39358590079781],\n",
"       [-87.96148738791351, 37.39358590079781],\n",
"       [-87.96148738791351, 43.09844605027055]]], {}, False)\n",
"\n",
"# Sample the methane composite to generate a FeatureCollection.\n",
"samples = ch4.addBands(ee.Image.pixelLonLat()) \\\n",
"  .sample(**{'region': aoi, 'numPixels': 1500,\n",
"    'scale':1000, 'projection': 'EPSG:4326'}) \\\n",
"  .map(sampling)\n",
"\n",
"# Combine mean and standard deviation reducers for efficiency.\n",
"combinedReducer = ee.Reducer.mean().combine(**{\n",
"  'reducer2': ee.Reducer.stdDev(),\n",
"  'sharedInputs': True})\n",
"\n",
"# Estimate global mean and standard deviation from the points.\n",
"stats = samples.reduceColumns(**{\n",
"  'reducer': combinedReducer,\n",
"  'selectors': ['ch4']})\n",
"\n",
"# Do the interpolation, valid to 70 kilometers.\n",
"interpolated = samples.inverseDistance(**{\n",
"  'range': 7e4,\n",
"  'propertyName': 'ch4',\n",
"  'mean': stats.get('mean'),\n",
"  'stdDev': stats.get('stdDev'),\n",
"  'gamma': 0.3})\n",
"\n",
"# Define visualization arguments.\n",
"band_viz = {\n",
"  'min': 1800,\n",
"  'max': 1900,\n",
"  'palette': ['0D0887', '5B02A3', '9A179B', 'CB4678',\n",
"            'EB7852', 'FBB32F', 'F0F921']}\n",
"\n",
"# Display to map.\n",
"# Map.centerObject(ee.FeatureCollection(aoi), 7)\n",
"ee_layers.append(EarthEngineLayer(ee_object=ch4, vis_params=band_viz))\n",
"# Map.addLayer(interpolated, band_viz, 'CH4 Interpolated')\n",
"\n",
"\n"
   ]
  },
  {
   "cell_type": "markdown",
   "metadata": {},
   "source": [
    "Then just pass these layers to a `pydeck.Deck` instance, and call `.show()` to create a map:"
   ]
  },
  {
   "cell_type": "code",
   "execution_count": 8,
   "metadata": {},
   "outputs": [
    {
     "data": {
      "application/vnd.jupyter.widget-view+json": {
       "model_id": "f3c23e300d2c4e6ab00a774d57c02a70",
       "version_major": 2,
       "version_minor": 0
      },
      "text/plain": [
       "DeckGLWidget(custom_libraries=[{'libraryName': 'EarthEngineLayerLibrary', 'resourceUri': 'https://cdn.jsdelivr…"
      ]
     },
     "metadata": {},
     "output_type": "display_data"
    }
   ],
   "source": [
    "r = pdk.Deck(layers=ee_layers, initial_view_state=view_state)\n",
    "r.show()"
   ]
  },
  {
   "cell_type": "code",
   "execution_count": null,
   "metadata": {},
   "outputs": [],
   "source": []
  },
  {
   "cell_type": "code",
   "execution_count": null,
   "metadata": {},
   "outputs": [],
   "source": []
  }
 ],
 "metadata": {
  "kernelspec": {
   "display_name": "Python 3",
   "language": "python",
   "name": "python3"
  },
  "language_info": {
   "codemirror_mode": {
    "name": "ipython",
    "version": 3
   },
   "file_extension": ".py",
   "mimetype": "text/x-python",
   "name": "python",
   "nbconvert_exporter": "python",
   "pygments_lexer": "ipython3",
   "version": "3.7.6"
  }
 },
 "nbformat": 4,
 "nbformat_minor": 4
}
